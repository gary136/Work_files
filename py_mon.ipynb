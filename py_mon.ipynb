{
 "cells": [
  {
   "cell_type": "code",
   "execution_count": 129,
   "metadata": {},
   "outputs": [],
   "source": [
    "import pymongo\n",
    "myclient = pymongo.MongoClient(\"mongodb://localhost:27017/\")"
   ]
  },
  {
   "cell_type": "code",
   "execution_count": 131,
   "metadata": {},
   "outputs": [],
   "source": [
    "mydb = myclient[\"stock\"]\n",
    "mydb.list_collection_names()\n",
    "close = mydb['close']"
   ]
  },
  {
   "cell_type": "code",
   "execution_count": 136,
   "metadata": {},
   "outputs": [
    {
     "data": {
      "text/plain": [
       "['close', 'low', 'open', 'high', 'volume', 'test_close']"
      ]
     },
     "execution_count": 136,
     "metadata": {},
     "output_type": "execute_result"
    }
   ],
   "source": [
    "mydb.list_collection_names()"
   ]
  },
  {
   "cell_type": "code",
   "execution_count": 137,
   "metadata": {},
   "outputs": [],
   "source": [
    "close = mydb['close']"
   ]
  },
  {
   "cell_type": "code",
   "execution_count": 15,
   "metadata": {},
   "outputs": [],
   "source": [
    "mydict = { \"name\": \"John\", \"address\": \"Highway 37\" }\n",
    "x = mycol.insert_one(mydict)"
   ]
  },
  {
   "cell_type": "code",
   "execution_count": 16,
   "metadata": {},
   "outputs": [
    {
     "name": "stdout",
     "output_type": "stream",
     "text": [
      "['admin', 'config', 'local', 'mydatabase', 'test']\n"
     ]
    }
   ],
   "source": [
    "print(myclient.list_database_names())"
   ]
  },
  {
   "cell_type": "code",
   "execution_count": 17,
   "metadata": {},
   "outputs": [
    {
     "name": "stdout",
     "output_type": "stream",
     "text": [
      "['customers']\n"
     ]
    }
   ],
   "source": [
    "print(mydb.list_collection_names())"
   ]
  },
  {
   "cell_type": "code",
   "execution_count": 18,
   "metadata": {},
   "outputs": [
    {
     "name": "stdout",
     "output_type": "stream",
     "text": [
      "5bb5c7c8d8e03c1a13e5a244\n"
     ]
    }
   ],
   "source": [
    "print(x.inserted_id)"
   ]
  },
  {
   "cell_type": "code",
   "execution_count": 19,
   "metadata": {},
   "outputs": [],
   "source": [
    "mylist = [\n",
    "  { \"name\": \"Amy\", \"address\": \"Apple st 652\"},\n",
    "  { \"name\": \"Hannah\", \"address\": \"Mountain 21\"},\n",
    "  { \"name\": \"Michael\", \"address\": \"Valley 345\"},\n",
    "  { \"name\": \"Sandy\", \"address\": \"Ocean blvd 2\"},\n",
    "  { \"name\": \"Betty\", \"address\": \"Green Grass 1\"},\n",
    "  { \"name\": \"Richard\", \"address\": \"Sky st 331\"},\n",
    "  { \"name\": \"Susan\", \"address\": \"One way 98\"},\n",
    "  { \"name\": \"Vicky\", \"address\": \"Yellow Garden 2\"},\n",
    "  { \"name\": \"Ben\", \"address\": \"Park Lane 38\"},\n",
    "  { \"name\": \"William\", \"address\": \"Central st 954\"},\n",
    "  { \"name\": \"Chuck\", \"address\": \"Main Road 989\"},\n",
    "  { \"name\": \"Viola\", \"address\": \"Sideway 1633\"}\n",
    "]\n",
    "x = mycol.insert_many(mylist)"
   ]
  },
  {
   "cell_type": "code",
   "execution_count": 22,
   "metadata": {},
   "outputs": [
    {
     "name": "stdout",
     "output_type": "stream",
     "text": [
      "[ObjectId('5bb5caa6d8e03c1a13e5a245'), ObjectId('5bb5caa6d8e03c1a13e5a246'), ObjectId('5bb5caa6d8e03c1a13e5a247'), ObjectId('5bb5caa6d8e03c1a13e5a248'), ObjectId('5bb5caa6d8e03c1a13e5a249'), ObjectId('5bb5caa6d8e03c1a13e5a24a'), ObjectId('5bb5caa6d8e03c1a13e5a24b'), ObjectId('5bb5caa6d8e03c1a13e5a24c'), ObjectId('5bb5caa6d8e03c1a13e5a24d'), ObjectId('5bb5caa6d8e03c1a13e5a24e'), ObjectId('5bb5caa6d8e03c1a13e5a24f'), ObjectId('5bb5caa6d8e03c1a13e5a250')]\n"
     ]
    }
   ],
   "source": [
    "print(x.inserted_ids)"
   ]
  },
  {
   "cell_type": "code",
   "execution_count": 23,
   "metadata": {},
   "outputs": [],
   "source": [
    "numlist = [\n",
    "  { \"_id\": 1, \"name\": \"John\", \"address\": \"Highway 37\"},\n",
    "  { \"_id\": 2, \"name\": \"Peter\", \"address\": \"Lowstreet 27\"},\n",
    "  { \"_id\": 3, \"name\": \"Amy\", \"address\": \"Apple st 652\"},\n",
    "  { \"_id\": 4, \"name\": \"Hannah\", \"address\": \"Mountain 21\"},\n",
    "  { \"_id\": 5, \"name\": \"Michael\", \"address\": \"Valley 345\"},\n",
    "  { \"_id\": 6, \"name\": \"Sandy\", \"address\": \"Ocean blvd 2\"},\n",
    "  { \"_id\": 7, \"name\": \"Betty\", \"address\": \"Green Grass 1\"},\n",
    "  { \"_id\": 8, \"name\": \"Richard\", \"address\": \"Sky st 331\"},\n",
    "  { \"_id\": 9, \"name\": \"Susan\", \"address\": \"One way 98\"},\n",
    "  { \"_id\": 10, \"name\": \"Vicky\", \"address\": \"Yellow Garden 2\"},\n",
    "  { \"_id\": 11, \"name\": \"Ben\", \"address\": \"Park Lane 38\"},\n",
    "  { \"_id\": 12, \"name\": \"William\", \"address\": \"Central st 954\"},\n",
    "  { \"_id\": 13, \"name\": \"Chuck\", \"address\": \"Main Road 989\"},\n",
    "  { \"_id\": 14, \"name\": \"Viola\", \"address\": \"Sideway 1633\"}\n",
    "]\n",
    "x = mycol.insert_many(numlist)"
   ]
  },
  {
   "cell_type": "code",
   "execution_count": 24,
   "metadata": {},
   "outputs": [
    {
     "name": "stdout",
     "output_type": "stream",
     "text": [
      "[1, 2, 3, 4, 5, 6, 7, 8, 9, 10, 11, 12, 13, 14]\n"
     ]
    }
   ],
   "source": [
    "print(x.inserted_ids)"
   ]
  },
  {
   "cell_type": "code",
   "execution_count": 25,
   "metadata": {},
   "outputs": [
    {
     "data": {
      "text/plain": [
       "Collection(Database(MongoClient(host=['localhost:27017'], document_class=dict, tz_aware=False, connect=True), 'mydatabase'), 'customers')"
      ]
     },
     "execution_count": 25,
     "metadata": {},
     "output_type": "execute_result"
    }
   ],
   "source": [
    "mycol"
   ]
  },
  {
   "cell_type": "code",
   "execution_count": 28,
   "metadata": {},
   "outputs": [
    {
     "data": {
      "text/plain": [
       "{'_id': ObjectId('5bb5c7c8d8e03c1a13e5a244'),\n",
       " 'name': 'John',\n",
       " 'address': 'Highway 37'}"
      ]
     },
     "execution_count": 28,
     "metadata": {},
     "output_type": "execute_result"
    }
   ],
   "source": [
    "x = mycol.find_one()\n",
    "x"
   ]
  },
  {
   "cell_type": "code",
   "execution_count": 63,
   "metadata": {},
   "outputs": [
    {
     "name": "stdout",
     "output_type": "stream",
     "text": [
      "{'_id': ObjectId('5bb5c7c8d8e03c1a13e5a244'), 'name': 'John', 'address': 'Highway 37'}\n",
      "{'_id': ObjectId('5bb5caa6d8e03c1a13e5a245'), 'name': 'Amy', 'address': 'Apple st 652'}\n",
      "{'_id': ObjectId('5bb5caa6d8e03c1a13e5a246'), 'name': 'Hannah', 'address': 'Mountain 21'}\n",
      "{'_id': ObjectId('5bb5caa6d8e03c1a13e5a247'), 'name': 'Michael', 'address': 'Valley 345'}\n",
      "{'_id': ObjectId('5bb5caa6d8e03c1a13e5a248'), 'name': 'Sandy', 'address': 'Ocean blvd 2'}\n",
      "{'_id': ObjectId('5bb5caa6d8e03c1a13e5a249'), 'name': 'Betty', 'address': 'Green Grass 1'}\n",
      "{'_id': ObjectId('5bb5caa6d8e03c1a13e5a24a'), 'name': 'Richard', 'address': 'Sky st 331'}\n",
      "{'_id': ObjectId('5bb5caa6d8e03c1a13e5a24b'), 'name': 'Susan', 'address': 'One way 98'}\n",
      "{'_id': ObjectId('5bb5caa6d8e03c1a13e5a24c'), 'name': 'Vicky', 'address': 'Yellow Garden 2'}\n",
      "{'_id': ObjectId('5bb5caa6d8e03c1a13e5a24d'), 'name': 'Ben', 'address': 'Park Lane 38'}\n",
      "{'_id': ObjectId('5bb5caa6d8e03c1a13e5a24e'), 'name': 'William', 'address': 'Central st 954'}\n",
      "{'_id': ObjectId('5bb5caa6d8e03c1a13e5a24f'), 'name': 'Chuck', 'address': 'Main Road 989'}\n",
      "{'_id': ObjectId('5bb5caa6d8e03c1a13e5a250'), 'name': 'Viola', 'address': 'Sideway 1633'}\n",
      "{'_id': 1, 'name': 'John', 'address': 'Highway 37'}\n",
      "{'_id': 2, 'name': 'Peter', 'address': 'Lowstreet 27'}\n",
      "{'_id': 3, 'name': 'Amy', 'address': 'Apple st 652'}\n",
      "{'_id': 4, 'name': 'Hannah', 'address': 'Mountain 21'}\n",
      "{'_id': 5, 'name': 'Michael', 'address': 'Valley 345'}\n",
      "{'_id': 6, 'name': 'Sandy', 'address': 'Ocean blvd 2'}\n",
      "{'_id': 7, 'name': 'Betty', 'address': 'Green Grass 1'}\n",
      "{'_id': 8, 'name': 'Richard', 'address': 'Sky st 331'}\n",
      "{'_id': 9, 'name': 'Susan', 'address': 'One way 98'}\n",
      "{'_id': 10, 'name': 'Vicky', 'address': 'Yellow Garden 2'}\n",
      "{'_id': 11, 'name': 'Ben', 'address': 'Park Lane 38'}\n",
      "{'_id': 12, 'name': 'William', 'address': 'Central st 954'}\n",
      "{'_id': 13, 'name': 'Chuck', 'address': 'Main Road 989'}\n",
      "{'_id': 14, 'name': 'Viola', 'address': 'Sideway 1633'}\n"
     ]
    }
   ],
   "source": [
    "for x in mycol.find():\n",
    "    print(x)"
   ]
  },
  {
   "cell_type": "code",
   "execution_count": 68,
   "metadata": {},
   "outputs": [
    {
     "name": "stdout",
     "output_type": "stream",
     "text": [
      "{'_id': ObjectId('5bb5c7c8d8e03c1a13e5a244'), 'name': 'John', 'address': 'Highway 37'}\n",
      "{'_id': ObjectId('5bb5caa6d8e03c1a13e5a245'), 'name': 'Amy', 'address': 'Apple st 652'}\n",
      "{'_id': ObjectId('5bb5caa6d8e03c1a13e5a246'), 'name': 'Hannah', 'address': 'Mountain 21'}\n",
      "{'_id': ObjectId('5bb5caa6d8e03c1a13e5a247'), 'name': 'Michael', 'address': 'Valley 345'}\n",
      "{'_id': ObjectId('5bb5caa6d8e03c1a13e5a248'), 'name': 'Sandy', 'address': 'Ocean blvd 2'}\n",
      "{'_id': ObjectId('5bb5caa6d8e03c1a13e5a249'), 'name': 'Betty', 'address': 'Green Grass 1'}\n",
      "{'_id': ObjectId('5bb5caa6d8e03c1a13e5a24a'), 'name': 'Richard', 'address': 'Sky st 331'}\n",
      "{'_id': ObjectId('5bb5caa6d8e03c1a13e5a24b'), 'name': 'Susan', 'address': 'One way 98'}\n",
      "{'_id': ObjectId('5bb5caa6d8e03c1a13e5a24c'), 'name': 'Vicky', 'address': 'Yellow Garden 2'}\n",
      "{'_id': ObjectId('5bb5caa6d8e03c1a13e5a24d'), 'name': 'Ben', 'address': 'Park Lane 38'}\n",
      "{'_id': ObjectId('5bb5caa6d8e03c1a13e5a24e'), 'name': 'William', 'address': 'Central st 954'}\n",
      "{'_id': ObjectId('5bb5caa6d8e03c1a13e5a24f'), 'name': 'Chuck', 'address': 'Main Road 989'}\n",
      "{'_id': ObjectId('5bb5caa6d8e03c1a13e5a250'), 'name': 'Viola', 'address': 'Sideway 1633'}\n",
      "{'_id': 1, 'name': 'John', 'address': 'Highway 37'}\n",
      "{'_id': 2, 'name': 'Peter', 'address': 'Lowstreet 27'}\n",
      "{'_id': 3, 'name': 'Amy', 'address': 'Apple st 652'}\n",
      "{'_id': 4, 'name': 'Hannah', 'address': 'Mountain 21'}\n",
      "{'_id': 5, 'name': 'Michael', 'address': 'Valley 345'}\n",
      "{'_id': 6, 'name': 'Sandy', 'address': 'Ocean blvd 2'}\n",
      "{'_id': 7, 'name': 'Betty', 'address': 'Green Grass 1'}\n",
      "{'_id': 8, 'name': 'Richard', 'address': 'Sky st 331'}\n",
      "{'_id': 9, 'name': 'Susan', 'address': 'One way 98'}\n",
      "{'_id': 10, 'name': 'Vicky', 'address': 'Yellow Garden 2'}\n",
      "{'_id': 11, 'name': 'Ben', 'address': 'Park Lane 38'}\n",
      "{'_id': 12, 'name': 'William', 'address': 'Central st 954'}\n",
      "{'_id': 13, 'name': 'Chuck', 'address': 'Main Road 989'}\n",
      "{'_id': 14, 'name': 'Viola', 'address': 'Sideway 1633'}\n",
      "StopIteration\n"
     ]
    }
   ],
   "source": [
    "t = mycol.find()\n",
    "while True:\n",
    "    try:\n",
    "        print(next(t))\n",
    "    except StopIteration:\n",
    "        print('StopIteration')\n",
    "        break"
   ]
  },
  {
   "cell_type": "code",
   "execution_count": 73,
   "metadata": {},
   "outputs": [
    {
     "name": "stdout",
     "output_type": "stream",
     "text": [
      "{'name': 'John'}\n",
      "{'name': 'Amy'}\n",
      "{'name': 'Hannah'}\n",
      "{'name': 'Michael'}\n",
      "{'name': 'Sandy'}\n",
      "{'name': 'Betty'}\n",
      "{'name': 'Richard'}\n",
      "{'name': 'Susan'}\n",
      "{'name': 'Vicky'}\n",
      "{'name': 'Ben'}\n",
      "{'name': 'William'}\n",
      "{'name': 'Chuck'}\n",
      "{'name': 'Viola'}\n",
      "{'name': 'John'}\n",
      "{'name': 'Peter'}\n",
      "{'name': 'Amy'}\n",
      "{'name': 'Hannah'}\n",
      "{'name': 'Michael'}\n",
      "{'name': 'Sandy'}\n",
      "{'name': 'Betty'}\n",
      "{'name': 'Richard'}\n",
      "{'name': 'Susan'}\n",
      "{'name': 'Vicky'}\n",
      "{'name': 'Ben'}\n",
      "{'name': 'William'}\n",
      "{'name': 'Chuck'}\n",
      "{'name': 'Viola'}\n"
     ]
    }
   ],
   "source": [
    "for x in mycol.find({}, {\"_id\":0, \"name\":1}):\n",
    "    print(x)"
   ]
  },
  {
   "cell_type": "code",
   "execution_count": 74,
   "metadata": {},
   "outputs": [
    {
     "name": "stdout",
     "output_type": "stream",
     "text": [
      "{'_id': ObjectId('5bb5caa6d8e03c1a13e5a24d'), 'name': 'Ben', 'address': 'Park Lane 38'}\n",
      "{'_id': 11, 'name': 'Ben', 'address': 'Park Lane 38'}\n"
     ]
    }
   ],
   "source": [
    "myquery = { \"address\": \"Park Lane 38\" }\n",
    "mydoc = mycol.find(myquery)\n",
    "for x in mydoc:\n",
    "    print(x)"
   ]
  },
  {
   "cell_type": "code",
   "execution_count": 75,
   "metadata": {},
   "outputs": [
    {
     "name": "stdout",
     "output_type": "stream",
     "text": [
      "{'_id': ObjectId('5bb5caa6d8e03c1a13e5a247'), 'name': 'Michael', 'address': 'Valley 345'}\n",
      "{'_id': ObjectId('5bb5caa6d8e03c1a13e5a24a'), 'name': 'Richard', 'address': 'Sky st 331'}\n",
      "{'_id': ObjectId('5bb5caa6d8e03c1a13e5a24c'), 'name': 'Vicky', 'address': 'Yellow Garden 2'}\n",
      "{'_id': ObjectId('5bb5caa6d8e03c1a13e5a250'), 'name': 'Viola', 'address': 'Sideway 1633'}\n",
      "{'_id': 5, 'name': 'Michael', 'address': 'Valley 345'}\n",
      "{'_id': 8, 'name': 'Richard', 'address': 'Sky st 331'}\n",
      "{'_id': 10, 'name': 'Vicky', 'address': 'Yellow Garden 2'}\n",
      "{'_id': 14, 'name': 'Viola', 'address': 'Sideway 1633'}\n"
     ]
    }
   ],
   "source": [
    "myquery = {\"address\": {\"$gt\": \"S\"}}\n",
    "mydoc = mycol.find(myquery)\n",
    "for x in mydoc:\n",
    "    print(x)"
   ]
  },
  {
   "cell_type": "code",
   "execution_count": 77,
   "metadata": {},
   "outputs": [
    {
     "name": "stdout",
     "output_type": "stream",
     "text": [
      "{'_id': ObjectId('5bb5caa6d8e03c1a13e5a245'), 'name': 'Amy', 'address': 'Apple st 652'}\n",
      "{'_id': 3, 'name': 'Amy', 'address': 'Apple st 652'}\n",
      "{'_id': ObjectId('5bb5caa6d8e03c1a13e5a24d'), 'name': 'Ben', 'address': 'Park Lane 38'}\n",
      "{'_id': 11, 'name': 'Ben', 'address': 'Park Lane 38'}\n",
      "{'_id': ObjectId('5bb5caa6d8e03c1a13e5a249'), 'name': 'Betty', 'address': 'Green Grass 1'}\n",
      "{'_id': 7, 'name': 'Betty', 'address': 'Green Grass 1'}\n",
      "{'_id': ObjectId('5bb5caa6d8e03c1a13e5a24f'), 'name': 'Chuck', 'address': 'Main Road 989'}\n",
      "{'_id': 13, 'name': 'Chuck', 'address': 'Main Road 989'}\n",
      "{'_id': ObjectId('5bb5caa6d8e03c1a13e5a246'), 'name': 'Hannah', 'address': 'Mountain 21'}\n",
      "{'_id': 4, 'name': 'Hannah', 'address': 'Mountain 21'}\n",
      "{'_id': ObjectId('5bb5c7c8d8e03c1a13e5a244'), 'name': 'John', 'address': 'Highway 37'}\n",
      "{'_id': 1, 'name': 'John', 'address': 'Highway 37'}\n",
      "{'_id': ObjectId('5bb5caa6d8e03c1a13e5a247'), 'name': 'Michael', 'address': 'Valley 345'}\n",
      "{'_id': 5, 'name': 'Michael', 'address': 'Valley 345'}\n",
      "{'_id': 2, 'name': 'Peter', 'address': 'Lowstreet 27'}\n",
      "{'_id': ObjectId('5bb5caa6d8e03c1a13e5a24a'), 'name': 'Richard', 'address': 'Sky st 331'}\n",
      "{'_id': 8, 'name': 'Richard', 'address': 'Sky st 331'}\n",
      "{'_id': ObjectId('5bb5caa6d8e03c1a13e5a248'), 'name': 'Sandy', 'address': 'Ocean blvd 2'}\n",
      "{'_id': 6, 'name': 'Sandy', 'address': 'Ocean blvd 2'}\n",
      "{'_id': ObjectId('5bb5caa6d8e03c1a13e5a24b'), 'name': 'Susan', 'address': 'One way 98'}\n",
      "{'_id': 9, 'name': 'Susan', 'address': 'One way 98'}\n",
      "{'_id': ObjectId('5bb5caa6d8e03c1a13e5a24c'), 'name': 'Vicky', 'address': 'Yellow Garden 2'}\n",
      "{'_id': 10, 'name': 'Vicky', 'address': 'Yellow Garden 2'}\n",
      "{'_id': ObjectId('5bb5caa6d8e03c1a13e5a250'), 'name': 'Viola', 'address': 'Sideway 1633'}\n",
      "{'_id': 14, 'name': 'Viola', 'address': 'Sideway 1633'}\n",
      "{'_id': ObjectId('5bb5caa6d8e03c1a13e5a24e'), 'name': 'William', 'address': 'Central st 954'}\n",
      "{'_id': 12, 'name': 'William', 'address': 'Central st 954'}\n"
     ]
    }
   ],
   "source": [
    "mydoc = mycol.find().sort(\"name\")\n",
    "for x in mydoc:\n",
    "    print(x)"
   ]
  },
  {
   "cell_type": "code",
   "execution_count": 94,
   "metadata": {},
   "outputs": [],
   "source": [
    "import pandas as pd"
   ]
  },
  {
   "cell_type": "code",
   "execution_count": 95,
   "metadata": {},
   "outputs": [],
   "source": [
    "df = pd.read_csv('f100.csv')"
   ]
  },
  {
   "cell_type": "code",
   "execution_count": 96,
   "metadata": {},
   "outputs": [
    {
     "data": {
      "text/html": [
       "<div>\n",
       "<style scoped>\n",
       "    .dataframe tbody tr th:only-of-type {\n",
       "        vertical-align: middle;\n",
       "    }\n",
       "\n",
       "    .dataframe tbody tr th {\n",
       "        vertical-align: top;\n",
       "    }\n",
       "\n",
       "    .dataframe thead th {\n",
       "        text-align: right;\n",
       "    }\n",
       "</style>\n",
       "<table border=\"1\" class=\"dataframe\">\n",
       "  <thead>\n",
       "    <tr style=\"text-align: right;\">\n",
       "      <th></th>\n",
       "      <th>Block</th>\n",
       "      <th>Time (UTC)</th>\n",
       "      <th>year</th>\n",
       "      <th>month</th>\n",
       "      <th>date</th>\n",
       "      <th>timestamp</th>\n",
       "      <th>Amount (BTC)</th>\n",
       "      <th>USD price</th>\n",
       "      <th>address</th>\n",
       "      <th>rank</th>\n",
       "    </tr>\n",
       "  </thead>\n",
       "  <tbody>\n",
       "    <tr>\n",
       "      <th>0</th>\n",
       "      <td>538049</td>\n",
       "      <td>2018-08-23T03:34:37Z</td>\n",
       "      <td>2018</td>\n",
       "      <td>8</td>\n",
       "      <td>23</td>\n",
       "      <td>20180823</td>\n",
       "      <td>-49.102777</td>\n",
       "      <td>6411.63</td>\n",
       "      <td>1NDyJtNTjmwk5xPNhjgAMu4HDHigtobu1s</td>\n",
       "      <td>70</td>\n",
       "    </tr>\n",
       "    <tr>\n",
       "      <th>1</th>\n",
       "      <td>538048</td>\n",
       "      <td>2018-08-23T03:24:18Z</td>\n",
       "      <td>2018</td>\n",
       "      <td>8</td>\n",
       "      <td>23</td>\n",
       "      <td>20180823</td>\n",
       "      <td>-11.642328</td>\n",
       "      <td>6411.63</td>\n",
       "      <td>1NDyJtNTjmwk5xPNhjgAMu4HDHigtobu1s</td>\n",
       "      <td>70</td>\n",
       "    </tr>\n",
       "    <tr>\n",
       "      <th>2</th>\n",
       "      <td>538047</td>\n",
       "      <td>2018-08-23T03:13:43Z</td>\n",
       "      <td>2018</td>\n",
       "      <td>8</td>\n",
       "      <td>23</td>\n",
       "      <td>20180823</td>\n",
       "      <td>-64.844140</td>\n",
       "      <td>6411.63</td>\n",
       "      <td>1NDyJtNTjmwk5xPNhjgAMu4HDHigtobu1s</td>\n",
       "      <td>70</td>\n",
       "    </tr>\n",
       "    <tr>\n",
       "      <th>3</th>\n",
       "      <td>538046</td>\n",
       "      <td>2018-08-23T02:52:07Z</td>\n",
       "      <td>2018</td>\n",
       "      <td>8</td>\n",
       "      <td>23</td>\n",
       "      <td>20180823</td>\n",
       "      <td>49.090497</td>\n",
       "      <td>6411.63</td>\n",
       "      <td>1NDyJtNTjmwk5xPNhjgAMu4HDHigtobu1s</td>\n",
       "      <td>70</td>\n",
       "    </tr>\n",
       "    <tr>\n",
       "      <th>4</th>\n",
       "      <td>538045</td>\n",
       "      <td>2018-08-23T02:39:42Z</td>\n",
       "      <td>2018</td>\n",
       "      <td>8</td>\n",
       "      <td>23</td>\n",
       "      <td>20180823</td>\n",
       "      <td>-4.777281</td>\n",
       "      <td>6411.63</td>\n",
       "      <td>1NDyJtNTjmwk5xPNhjgAMu4HDHigtobu1s</td>\n",
       "      <td>70</td>\n",
       "    </tr>\n",
       "  </tbody>\n",
       "</table>\n",
       "</div>"
      ],
      "text/plain": [
       "    Block            Time (UTC)  year  month  date  timestamp  Amount (BTC)  \\\n",
       "0  538049  2018-08-23T03:34:37Z  2018      8    23   20180823    -49.102777   \n",
       "1  538048  2018-08-23T03:24:18Z  2018      8    23   20180823    -11.642328   \n",
       "2  538047  2018-08-23T03:13:43Z  2018      8    23   20180823    -64.844140   \n",
       "3  538046  2018-08-23T02:52:07Z  2018      8    23   20180823     49.090497   \n",
       "4  538045  2018-08-23T02:39:42Z  2018      8    23   20180823     -4.777281   \n",
       "\n",
       "   USD price                             address  rank  \n",
       "0    6411.63  1NDyJtNTjmwk5xPNhjgAMu4HDHigtobu1s    70  \n",
       "1    6411.63  1NDyJtNTjmwk5xPNhjgAMu4HDHigtobu1s    70  \n",
       "2    6411.63  1NDyJtNTjmwk5xPNhjgAMu4HDHigtobu1s    70  \n",
       "3    6411.63  1NDyJtNTjmwk5xPNhjgAMu4HDHigtobu1s    70  \n",
       "4    6411.63  1NDyJtNTjmwk5xPNhjgAMu4HDHigtobu1s    70  "
      ]
     },
     "execution_count": 96,
     "metadata": {},
     "output_type": "execute_result"
    }
   ],
   "source": [
    "df.head()"
   ]
  },
  {
   "cell_type": "code",
   "execution_count": 102,
   "metadata": {},
   "outputs": [],
   "source": [
    "import json"
   ]
  },
  {
   "cell_type": "code",
   "execution_count": 107,
   "metadata": {},
   "outputs": [],
   "source": [
    "def rec_to_actions(df):\n",
    "    for record in df.to_dict(orient=\"records\"):\n",
    "        yield record"
   ]
  },
  {
   "cell_type": "code",
   "execution_count": 108,
   "metadata": {},
   "outputs": [],
   "source": [
    "t = rec_to_actions(df.head())"
   ]
  },
  {
   "cell_type": "code",
   "execution_count": 109,
   "metadata": {},
   "outputs": [
    {
     "data": {
      "text/plain": [
       "{'Block': 538049,\n",
       " 'Time (UTC)': '2018-08-23T03:34:37Z',\n",
       " 'year': 2018,\n",
       " 'month': 8,\n",
       " 'date': 23,\n",
       " 'timestamp': 20180823,\n",
       " 'Amount (BTC)': -49.10277715,\n",
       " 'USD price': 6411.63,\n",
       " 'address': '1NDyJtNTjmwk5xPNhjgAMu4HDHigtobu1s',\n",
       " 'rank': 70}"
      ]
     },
     "execution_count": 109,
     "metadata": {},
     "output_type": "execute_result"
    }
   ],
   "source": [
    "next(t)"
   ]
  },
  {
   "cell_type": "code",
   "execution_count": 113,
   "metadata": {},
   "outputs": [
    {
     "name": "stdout",
     "output_type": "stream",
     "text": [
      "StopIteration\n"
     ]
    }
   ],
   "source": [
    "mydb = myclient[\"cryptocurrency\"]\n",
    "mycol = mydb[\"btc_top100\"]\n",
    "tes = rec_to_actions(df.head())\n",
    "while True:\n",
    "    try:\n",
    "        mycol.insert_one(next(tes))\n",
    "    except StopIteration:\n",
    "        print('StopIteration')\n",
    "        break"
   ]
  },
  {
   "cell_type": "code",
   "execution_count": 118,
   "metadata": {},
   "outputs": [
    {
     "name": "stdout",
     "output_type": "stream",
     "text": [
      "{'_id': ObjectId('5bb5eb3dd8e03c1a13e5a252'), 'Block': 538048, 'Time (UTC)': '2018-08-23T03:24:18Z', 'year': 2018, 'month': 8, 'date': 23, 'timestamp': 20180823, 'Amount (BTC)': -11.64232808, 'USD price': 6411.63, 'address': '1NDyJtNTjmwk5xPNhjgAMu4HDHigtobu1s', 'rank': 70}\n",
      "{'_id': ObjectId('5bb5eb3dd8e03c1a13e5a253'), 'Block': 538047, 'Time (UTC)': '2018-08-23T03:13:43Z', 'year': 2018, 'month': 8, 'date': 23, 'timestamp': 20180823, 'Amount (BTC)': -64.8441401, 'USD price': 6411.63, 'address': '1NDyJtNTjmwk5xPNhjgAMu4HDHigtobu1s', 'rank': 70}\n",
      "{'_id': ObjectId('5bb5eb3dd8e03c1a13e5a254'), 'Block': 538046, 'Time (UTC)': '2018-08-23T02:52:07Z', 'year': 2018, 'month': 8, 'date': 23, 'timestamp': 20180823, 'Amount (BTC)': 49.09049688, 'USD price': 6411.63, 'address': '1NDyJtNTjmwk5xPNhjgAMu4HDHigtobu1s', 'rank': 70}\n",
      "{'_id': ObjectId('5bb5eb3dd8e03c1a13e5a255'), 'Block': 538045, 'Time (UTC)': '2018-08-23T02:39:42Z', 'year': 2018, 'month': 8, 'date': 23, 'timestamp': 20180823, 'Amount (BTC)': -4.77728105, 'USD price': 6411.63, 'address': '1NDyJtNTjmwk5xPNhjgAMu4HDHigtobu1s', 'rank': 70}\n"
     ]
    }
   ],
   "source": [
    "for x in mycol.find():\n",
    "    print(x)"
   ]
  },
  {
   "cell_type": "code",
   "execution_count": 117,
   "metadata": {},
   "outputs": [
    {
     "data": {
      "text/plain": [
       "<pymongo.results.DeleteResult at 0x1166e4cc8>"
      ]
     },
     "execution_count": 117,
     "metadata": {},
     "output_type": "execute_result"
    }
   ],
   "source": [
    "myquery = {'Block': 538049}\n",
    "mycol.delete_one(myquery)"
   ]
  },
  {
   "cell_type": "code",
   "execution_count": 119,
   "metadata": {},
   "outputs": [
    {
     "name": "stdout",
     "output_type": "stream",
     "text": [
      "4  documents deleted.\n"
     ]
    }
   ],
   "source": [
    "myquery = {'year': 2018}\n",
    "x = mycol.delete_many(myquery)\n",
    "print(x.deleted_count, \" documents deleted.\")"
   ]
  },
  {
   "cell_type": "code",
   "execution_count": 120,
   "metadata": {},
   "outputs": [],
   "source": [
    "def mongobulk(df, database, collection, Host='localhost:27017'):\n",
    "    myclient = pymongo.MongoClient(\"mongodb://{}\".format(Host))\n",
    "    mydb = myclient[database]\n",
    "    mycol = mydb[collection]\n",
    "    def pandas_generator(df):\n",
    "        for record in df.to_dict(orient=\"records\"):\n",
    "            yield record\n",
    "    g = pandas_generator(df)\n",
    "    while True:\n",
    "        try:\n",
    "            mycol.insert_one(next(g))\n",
    "        except StopIteration:\n",
    "            print('StopIteration')\n",
    "            break"
   ]
  },
  {
   "cell_type": "code",
   "execution_count": 121,
   "metadata": {},
   "outputs": [
    {
     "name": "stdout",
     "output_type": "stream",
     "text": [
      "StopIteration\n"
     ]
    }
   ],
   "source": [
    "mongobulk(df, 'cryptocurrency', 'btc_top100')"
   ]
  },
  {
   "cell_type": "code",
   "execution_count": 126,
   "metadata": {},
   "outputs": [],
   "source": [
    "t = mycol.find()"
   ]
  },
  {
   "cell_type": "code",
   "execution_count": 127,
   "metadata": {},
   "outputs": [
    {
     "data": {
      "text/plain": [
       "57484"
      ]
     },
     "execution_count": 127,
     "metadata": {},
     "output_type": "execute_result"
    }
   ],
   "source": [
    "len(list(t))"
   ]
  },
  {
   "cell_type": "code",
   "execution_count": 139,
   "metadata": {},
   "outputs": [],
   "source": [
    "mydb = myclient[\"stock\"]\n",
    "a = mydb.list_collection_names()\n",
    "close = mydb['close']"
   ]
  },
  {
   "cell_type": "code",
   "execution_count": 144,
   "metadata": {},
   "outputs": [],
   "source": [
    "test = close.find_one()"
   ]
  },
  {
   "cell_type": "code",
   "execution_count": 153,
   "metadata": {},
   "outputs": [],
   "source": [
    "import datetime"
   ]
  },
  {
   "cell_type": "code",
   "execution_count": 146,
   "metadata": {},
   "outputs": [
    {
     "data": {
      "text/plain": [
       "2018"
      ]
     },
     "execution_count": 146,
     "metadata": {},
     "output_type": "execute_result"
    }
   ],
   "source": [
    "test['Time'].year"
   ]
  },
  {
   "cell_type": "code",
   "execution_count": 156,
   "metadata": {},
   "outputs": [
    {
     "data": {
      "text/plain": [
       "datetime.datetime(2018, 9, 4, 0, 0)"
      ]
     },
     "execution_count": 156,
     "metadata": {},
     "output_type": "execute_result"
    }
   ],
   "source": [
    "close.find_one(sort=[(\"Time\", 1)])['Time']"
   ]
  },
  {
   "cell_type": "code",
   "execution_count": 157,
   "metadata": {},
   "outputs": [
    {
     "name": "stdout",
     "output_type": "stream",
     "text": [
      "60 个文档已删除\n",
      "60 个文档已删除\n",
      "60 个文档已删除\n",
      "60 个文档已删除\n",
      "60 个文档已删除\n"
     ]
    }
   ],
   "source": [
    "for i in ['close', 'open', 'high', 'low', 'volume']:\n",
    "    mycol = mydb[i]\n",
    "    x = mycol.delete_many({})\n",
    "    print(x.deleted_count, \"个文档已删除\")"
   ]
  },
  {
   "cell_type": "code",
   "execution_count": null,
   "metadata": {},
   "outputs": [],
   "source": []
  }
 ],
 "metadata": {
  "kernelspec": {
   "display_name": "Python 3",
   "language": "python",
   "name": "python3"
  },
  "language_info": {
   "codemirror_mode": {
    "name": "ipython",
    "version": 3
   },
   "file_extension": ".py",
   "mimetype": "text/x-python",
   "name": "python",
   "nbconvert_exporter": "python",
   "pygments_lexer": "ipython3",
   "version": "3.6.5"
  }
 },
 "nbformat": 4,
 "nbformat_minor": 2
}
