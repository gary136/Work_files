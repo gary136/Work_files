{
 "cells": [
  {
   "cell_type": "code",
   "execution_count": 1,
   "metadata": {},
   "outputs": [],
   "source": [
    "from datetime import datetime\n",
    "from elasticsearch import Elasticsearch\n",
    "es = Elasticsearch()"
   ]
  },
  {
   "cell_type": "code",
   "execution_count": 2,
   "metadata": {},
   "outputs": [
    {
     "data": {
      "text/plain": [
       "<Elasticsearch([{}])>"
      ]
     },
     "execution_count": 2,
     "metadata": {},
     "output_type": "execute_result"
    }
   ],
   "source": [
    "es"
   ]
  },
  {
   "cell_type": "code",
   "execution_count": 3,
   "metadata": {},
   "outputs": [
    {
     "name": "stdout",
     "output_type": "stream",
     "text": [
      "created\n"
     ]
    }
   ],
   "source": [
    "doc = {\n",
    "    'author': 'kimchy',\n",
    "    'text': 'Elasticsearch: cool. bonsai cool.',\n",
    "    'timestamp': datetime.now(),\n",
    "}\n",
    "res = es.index(index=\"test-index\", doc_type='tweet', id=1, body=doc)\n",
    "print(res['result'])"
   ]
  },
  {
   "cell_type": "code",
   "execution_count": 14,
   "metadata": {},
   "outputs": [],
   "source": [
    "import pandas as pd\n",
    "import numpy as np"
   ]
  },
  {
   "cell_type": "code",
   "execution_count": 8,
   "metadata": {},
   "outputs": [],
   "source": [
    "from espandas import Espandas"
   ]
  },
  {
   "cell_type": "code",
   "execution_count": 43,
   "metadata": {},
   "outputs": [],
   "source": [
    "df = (100 * pd.DataFrame(np.round(np.random.rand(100, 5), 2))).astype(int)\n",
    "df.columns = ['A', 'B', 'C', 'D', 'E']\n",
    "df['indexId'] = (df.index + 100).astype(str)"
   ]
  },
  {
   "cell_type": "code",
   "execution_count": 44,
   "metadata": {},
   "outputs": [],
   "source": [
    "INDEX = 'foo_index'\n",
    "TYPE = 'bar_type'\n",
    "esp = Espandas()"
   ]
  },
  {
   "cell_type": "code",
   "execution_count": 45,
   "metadata": {},
   "outputs": [
    {
     "name": "stderr",
     "output_type": "stream",
     "text": [
      "/Library/Frameworks/Python.framework/Versions/3.6/lib/python3.6/site-packages/espandas/espandas.py:85: FutureWarning: '.reindex_axis' is deprecated and will be removed in a future version. Use '.reindex' instead.\n",
      "  df = df.reindex_axis(sorted(df.columns), axis=1)\n"
     ]
    }
   ],
   "source": [
    "esp.es_write(df, INDEX, TYPE)"
   ]
  },
  {
   "cell_type": "code",
   "execution_count": 90,
   "metadata": {},
   "outputs": [],
   "source": [
    "def pd_elastic(df):\n",
    "    from espandas import Espandas\n",
    "    df['indexId'] = (df.index).astype(str)\n",
    "    INDEX = input('index name: ')\n",
    "    TYPE = input('type name: ')\n",
    "    esp = Espandas()\n",
    "    esp.es_write(df, INDEX, TYPE)"
   ]
  },
  {
   "cell_type": "code",
   "execution_count": 24,
   "metadata": {},
   "outputs": [
    {
     "name": "stderr",
     "output_type": "stream",
     "text": [
      "/Library/Frameworks/Python.framework/Versions/3.6/lib/python3.6/site-packages/ipykernel_launcher.py:3: SettingWithCopyWarning: \n",
      "A value is trying to be set on a copy of a slice from a DataFrame.\n",
      "Try using .loc[row_indexer,col_indexer] = value instead\n",
      "\n",
      "See the caveats in the documentation: http://pandas.pydata.org/pandas-docs/stable/indexing.html#indexing-view-versus-copy\n",
      "  This is separate from the ipykernel package so we can avoid doing imports until\n"
     ]
    }
   ],
   "source": [
    "df = pd.read_csv('f100.csv')\n",
    "f100_t = df.head(15)\n",
    "f100_t['indexId'] = (f100_t.index).astype(str)"
   ]
  },
  {
   "cell_type": "code",
   "execution_count": 31,
   "metadata": {},
   "outputs": [
    {
     "name": "stdout",
     "output_type": "stream",
     "text": [
      "Help on function astype in module pandas.core.indexes.base:\n",
      "\n",
      "astype(self, dtype, copy=True)\n",
      "    Create an Index with values cast to dtypes. The class of a new Index\n",
      "    is determined by dtype. When conversion is impossible, a ValueError\n",
      "    exception is raised.\n",
      "    \n",
      "    Parameters\n",
      "    ----------\n",
      "    dtype : numpy dtype or pandas type\n",
      "    copy : bool, default True\n",
      "        By default, astype always returns a newly allocated object.\n",
      "        If copy is set to False and internal requirements on dtype are\n",
      "        satisfied, the original data is used to create a new Index\n",
      "        or the original Index is returned.\n",
      "    \n",
      "        .. versionadded:: 0.19.0\n",
      "\n"
     ]
    }
   ],
   "source": [
    "help(pd.core.indexes.range.RangeIndex.astype)"
   ]
  },
  {
   "cell_type": "code",
   "execution_count": 25,
   "metadata": {},
   "outputs": [
    {
     "name": "stderr",
     "output_type": "stream",
     "text": [
      "/Library/Frameworks/Python.framework/Versions/3.6/lib/python3.6/site-packages/espandas/espandas.py:85: FutureWarning: '.reindex_axis' is deprecated and will be removed in a future version. Use '.reindex' instead.\n",
      "  df = df.reindex_axis(sorted(df.columns), axis=1)\n"
     ]
    }
   ],
   "source": [
    "INDEX = 'f100_t_index'\n",
    "TYPE = 'f100_t_type'\n",
    "esp = Espandas()\n",
    "esp.es_write(f100_t, INDEX, TYPE)"
   ]
  },
  {
   "cell_type": "code",
   "execution_count": 23,
   "metadata": {},
   "outputs": [
    {
     "name": "stdout",
     "output_type": "stream",
     "text": [
      "Help on method es_write in module espandas.espandas:\n",
      "\n",
      "es_write(df, index, doc_type, index_name='indexId') method of espandas.espandas.Espandas instance\n",
      "    Insert a Pandas DataFrame into ElasticSearch\n",
      "    :param df: the DataFrame, must contain the column 'indexId' for a unique identifier\n",
      "    :param index: the ElasticSearch index\n",
      "    :param doc_type: the ElasticSearch doc_type\n",
      "\n"
     ]
    }
   ],
   "source": [
    "help(esp.es_write)"
   ]
  },
  {
   "cell_type": "code",
   "execution_count": 29,
   "metadata": {},
   "outputs": [
    {
     "data": {
      "text/plain": [
       "pandas.core.indexes.range.RangeIndex"
      ]
     },
     "execution_count": 29,
     "metadata": {},
     "output_type": "execute_result"
    }
   ],
   "source": [
    "type(f100_t.index)"
   ]
  },
  {
   "cell_type": "code",
   "execution_count": 46,
   "metadata": {},
   "outputs": [],
   "source": [
    "df = pd.read_csv('rsi_t.csv')"
   ]
  },
  {
   "cell_type": "code",
   "execution_count": 84,
   "metadata": {},
   "outputs": [
    {
     "data": {
      "text/html": [
       "<div>\n",
       "<style scoped>\n",
       "    .dataframe tbody tr th:only-of-type {\n",
       "        vertical-align: middle;\n",
       "    }\n",
       "\n",
       "    .dataframe tbody tr th {\n",
       "        vertical-align: top;\n",
       "    }\n",
       "\n",
       "    .dataframe thead th {\n",
       "        text-align: right;\n",
       "    }\n",
       "</style>\n",
       "<table border=\"1\" class=\"dataframe\">\n",
       "  <thead>\n",
       "    <tr style=\"text-align: right;\">\n",
       "      <th></th>\n",
       "      <th>es_date</th>\n",
       "      <th>raw_date</th>\n",
       "      <th>btc_volume</th>\n",
       "      <th>btc_price</th>\n",
       "      <th>RSI_6</th>\n",
       "      <th>RSI_9</th>\n",
       "      <th>RSI_15</th>\n",
       "      <th>indexId</th>\n",
       "    </tr>\n",
       "  </thead>\n",
       "  <tbody>\n",
       "    <tr>\n",
       "      <th>0</th>\n",
       "      <td>2010-07-24T00:00:00Z</td>\n",
       "      <td>20100724</td>\n",
       "      <td>10400.000000</td>\n",
       "      <td>0.053</td>\n",
       "      <td>NaN</td>\n",
       "      <td>NaN</td>\n",
       "      <td>NaN</td>\n",
       "      <td>0</td>\n",
       "    </tr>\n",
       "    <tr>\n",
       "      <th>1</th>\n",
       "      <td>2011-03-01T00:00:00Z</td>\n",
       "      <td>20110301</td>\n",
       "      <td>79956.000000</td>\n",
       "      <td>0.930</td>\n",
       "      <td>NaN</td>\n",
       "      <td>NaN</td>\n",
       "      <td>NaN</td>\n",
       "      <td>1</td>\n",
       "    </tr>\n",
       "    <tr>\n",
       "      <th>2</th>\n",
       "      <td>2011-06-04T00:00:00Z</td>\n",
       "      <td>20110604</td>\n",
       "      <td>0.001000</td>\n",
       "      <td>17.830</td>\n",
       "      <td>NaN</td>\n",
       "      <td>NaN</td>\n",
       "      <td>NaN</td>\n",
       "      <td>2</td>\n",
       "    </tr>\n",
       "    <tr>\n",
       "      <th>3</th>\n",
       "      <td>2011-08-08T00:00:00Z</td>\n",
       "      <td>20110808</td>\n",
       "      <td>10770.515208</td>\n",
       "      <td>8.890</td>\n",
       "      <td>NaN</td>\n",
       "      <td>NaN</td>\n",
       "      <td>NaN</td>\n",
       "      <td>3</td>\n",
       "    </tr>\n",
       "    <tr>\n",
       "      <th>4</th>\n",
       "      <td>2012-06-22T00:00:00Z</td>\n",
       "      <td>20120622</td>\n",
       "      <td>0.031337</td>\n",
       "      <td>6.490</td>\n",
       "      <td>NaN</td>\n",
       "      <td>NaN</td>\n",
       "      <td>NaN</td>\n",
       "      <td>4</td>\n",
       "    </tr>\n",
       "  </tbody>\n",
       "</table>\n",
       "</div>"
      ],
      "text/plain": [
       "                es_date  raw_date    btc_volume  btc_price  RSI_6  RSI_9  \\\n",
       "0  2010-07-24T00:00:00Z  20100724  10400.000000      0.053    NaN    NaN   \n",
       "1  2011-03-01T00:00:00Z  20110301  79956.000000      0.930    NaN    NaN   \n",
       "2  2011-06-04T00:00:00Z  20110604      0.001000     17.830    NaN    NaN   \n",
       "3  2011-08-08T00:00:00Z  20110808  10770.515208      8.890    NaN    NaN   \n",
       "4  2012-06-22T00:00:00Z  20120622      0.031337      6.490    NaN    NaN   \n",
       "\n",
       "   RSI_15 indexId  \n",
       "0     NaN       0  \n",
       "1     NaN       1  \n",
       "2     NaN       2  \n",
       "3     NaN       3  \n",
       "4     NaN       4  "
      ]
     },
     "execution_count": 84,
     "metadata": {},
     "output_type": "execute_result"
    }
   ],
   "source": [
    "df.head()"
   ]
  },
  {
   "cell_type": "code",
   "execution_count": 81,
   "metadata": {},
   "outputs": [
    {
     "name": "stderr",
     "output_type": "stream",
     "text": [
      "/Library/Frameworks/Python.framework/Versions/3.6/lib/python3.6/site-packages/espandas/espandas.py:85: FutureWarning: '.reindex_axis' is deprecated and will be removed in a future version. Use '.reindex' instead.\n",
      "  df = df.reindex_axis(sorted(df.columns), axis=1)\n"
     ]
    }
   ],
   "source": [
    "df['indexId'] = (df.index).astype(str)\n",
    "INDEX = 'rsi_index'\n",
    "TYPE = 'rsi_type'\n",
    "esp = Espandas()\n",
    "esp.es_write(df, INDEX, TYPE)"
   ]
  },
  {
   "cell_type": "code",
   "execution_count": null,
   "metadata": {},
   "outputs": [],
   "source": []
  }
 ],
 "metadata": {
  "kernelspec": {
   "display_name": "Python 3",
   "language": "python",
   "name": "python3"
  },
  "language_info": {
   "codemirror_mode": {
    "name": "ipython",
    "version": 3
   },
   "file_extension": ".py",
   "mimetype": "text/x-python",
   "name": "python",
   "nbconvert_exporter": "python",
   "pygments_lexer": "ipython3",
   "version": "3.6.5"
  }
 },
 "nbformat": 4,
 "nbformat_minor": 2
}
