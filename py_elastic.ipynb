{
 "cells": [
  {
   "cell_type": "code",
   "execution_count": 175,
   "metadata": {},
   "outputs": [],
   "source": [
    "from datetime import datetime\n",
    "from elasticsearch import Elasticsearch"
   ]
  },
  {
   "cell_type": "code",
   "execution_count": 176,
   "metadata": {},
   "outputs": [],
   "source": [
    "es = Elasticsearch(['35.194.152.180:9200'], timeout=30)"
   ]
  },
  {
   "cell_type": "code",
   "execution_count": 171,
   "metadata": {},
   "outputs": [
    {
     "name": "stdout",
     "output_type": "stream",
     "text": [
      "Help on method bulk in module elasticsearch.client:\n",
      "\n",
      "bulk(body, index=None, doc_type=None, params=None) method of elasticsearch.client.Elasticsearch instance\n",
      "    Perform many index/delete operations in a single API call.\n",
      "    \n",
      "    See the :func:`~elasticsearch.helpers.bulk` helper function for a more\n",
      "    friendly API.\n",
      "    `<http://www.elastic.co/guide/en/elasticsearch/reference/current/docs-bulk.html>`_\n",
      "    \n",
      "    :arg body: The operation definition and data (action-data pairs),\n",
      "        separated by newlines\n",
      "    :arg index: Default index for items which don't provide one\n",
      "    :arg doc_type: Default document type for items which don't provide one\n",
      "    :arg _source: True or false to return the _source field or not, or\n",
      "        default list of fields to return, can be overridden on each sub-\n",
      "        request\n",
      "    :arg _source_exclude: Default list of fields to exclude from the\n",
      "        returned _source field, can be overridden on each sub-request\n",
      "    :arg _source_include: Default list of fields to extract and return from\n",
      "        the _source field, can be overridden on each sub-request\n",
      "    :arg fields: Default comma-separated list of fields to return in the\n",
      "        response for updates, can be overridden on each sub-request\n",
      "    :arg pipeline: The pipeline id to preprocess incoming documents with\n",
      "    :arg refresh: If `true` then refresh the effected shards to make this\n",
      "        operation visible to search, if `wait_for` then wait for a refresh\n",
      "        to make this operation visible to search, if `false` (the default)\n",
      "        then do nothing with refreshes., valid choices are: 'true', 'false',\n",
      "        'wait_for'\n",
      "    :arg routing: Specific routing value\n",
      "    :arg timeout: Explicit operation timeout\n",
      "    :arg wait_for_active_shards: Sets the number of shard copies that must\n",
      "        be active before proceeding with the bulk operation. Defaults to 1,\n",
      "        meaning the primary shard only. Set to `all` for all shard copies,\n",
      "        otherwise set to any non-negative value less than or equal to the\n",
      "        total number of copies for the shard (number of replicas + 1)\n",
      "\n"
     ]
    }
   ],
   "source": [
    "help(es.bulk)"
   ]
  },
  {
   "cell_type": "code",
   "execution_count": 173,
   "metadata": {},
   "outputs": [
    {
     "ename": "TypeError",
     "evalue": "'method' object is not subscriptable",
     "output_type": "error",
     "traceback": [
      "\u001b[0;31m---------------------------------------------------------------------------\u001b[0m",
      "\u001b[0;31mTypeError\u001b[0m                                 Traceback (most recent call last)",
      "\u001b[0;32m<ipython-input-173-a358ce0c8bb7>\u001b[0m in \u001b[0;36m<module>\u001b[0;34m()\u001b[0m\n\u001b[0;32m----> 1\u001b[0;31m \u001b[0mes\u001b[0m\u001b[0;34m.\u001b[0m\u001b[0mbulk\u001b[0m\u001b[0;34m[\u001b[0m\u001b[0;34m\"errors\"\u001b[0m\u001b[0;34m]\u001b[0m\u001b[0;34m\u001b[0m\u001b[0m\n\u001b[0m",
      "\u001b[0;31mTypeError\u001b[0m: 'method' object is not subscriptable"
     ]
    }
   ],
   "source": [
    "es.bulk[\"errors\"]"
   ]
  },
  {
   "cell_type": "code",
   "execution_count": 99,
   "metadata": {},
   "outputs": [
    {
     "name": "stdout",
     "output_type": "stream",
     "text": [
      "created\n"
     ]
    }
   ],
   "source": [
    "doc = {\n",
    "    'author': 'kimchy',\n",
    "    'text': 'Elasticsearch: cool. bonsai cool.',\n",
    "    'timestamp': datetime.now(),\n",
    "}\n",
    "res = es.index(index=\"t-index\", doc_type='tweet', id=1, body=doc)\n",
    "print(res['result'])"
   ]
  },
  {
   "cell_type": "code",
   "execution_count": 183,
   "metadata": {},
   "outputs": [
    {
     "name": "stdout",
     "output_type": "stream",
     "text": [
      "created\n"
     ]
    }
   ],
   "source": [
    "empty = {\n",
    "}\n",
    "res = es.index(index=\"t\", doc_type='e', body=empty)\n",
    "print(res['result'])"
   ]
  },
  {
   "cell_type": "code",
   "execution_count": 184,
   "metadata": {},
   "outputs": [
    {
     "data": {
      "text/plain": [
       "{'_index': 't',\n",
       " '_type': 'e',\n",
       " '_id': '1',\n",
       " '_version': 2,\n",
       " 'result': 'deleted',\n",
       " '_shards': {'total': 2, 'successful': 1, 'failed': 0},\n",
       " '_seq_no': 1,\n",
       " '_primary_term': 1}"
      ]
     },
     "execution_count": 184,
     "metadata": {},
     "output_type": "execute_result"
    }
   ],
   "source": [
    "es.delete(index=\"t\",doc_type=\"e\",id=1)"
   ]
  },
  {
   "cell_type": "code",
   "execution_count": 100,
   "metadata": {},
   "outputs": [],
   "source": [
    "df = pd.DataFrame(np.random.randint(0,100,size=(100, 4)), columns=list('ABCD'))"
   ]
  },
  {
   "cell_type": "code",
   "execution_count": 149,
   "metadata": {},
   "outputs": [],
   "source": [
    "INDEX=\"dataframe\"\n",
    "TYPE= \"record\""
   ]
  },
  {
   "cell_type": "code",
   "execution_count": 148,
   "metadata": {},
   "outputs": [
    {
     "data": {
      "text/plain": [
       "'{\"A\": 80, \"B\": 64, \"C\": 94, \"D\": 90}'"
      ]
     },
     "execution_count": 148,
     "metadata": {},
     "output_type": "execute_result"
    }
   ],
   "source": [
    "json.dumps(df.to_dict(orient=\"records\")[0], default=int)"
   ]
  },
  {
   "cell_type": "code",
   "execution_count": 146,
   "metadata": {},
   "outputs": [
    {
     "data": {
      "text/plain": [
       "\"{'A': 80, 'B': 64, 'C': 94, 'D': 90}\""
      ]
     },
     "execution_count": 146,
     "metadata": {},
     "output_type": "execute_result"
    }
   ],
   "source": [
    "str(df.to_dict(orient=\"records\")[0])"
   ]
  },
  {
   "cell_type": "code",
   "execution_count": 127,
   "metadata": {},
   "outputs": [
    {
     "name": "stdout",
     "output_type": "stream",
     "text": [
      "{ \"index\" : { \"_index\" : \"dataframe\", \"_type\" : \"record\" }}\n",
      "{\"A\": 80, \"B\": 64, \"C\": 94, \"D\": 90}\n",
      "{ \"index\" : { \"_index\" : \"dataframe\", \"_type\" : \"record\" }}\n",
      "{\"A\": 43, \"B\": 47, \"C\": 42, \"D\": 17}\n",
      "{ \"index\" : { \"_index\" : \"dataframe\", \"_type\" : \"record\" }}\n",
      "{\"A\": 45, \"B\": 9, \"C\": 62, \"D\": 69}\n",
      "{ \"index\" : { \"_index\" : \"dataframe\", \"_type\" : \"record\" }}\n",
      "{\"A\": 20, \"B\": 36, \"C\": 48, \"D\": 43}\n",
      "{ \"index\" : { \"_index\" : \"dataframe\", \"_type\" : \"record\" }}\n",
      "{\"A\": 45, \"B\": 59, \"C\": 24, \"D\": 65}\n",
      "{ \"index\" : { \"_index\" : \"dataframe\", \"_type\" : \"record\" }}\n",
      "{\"A\": 17, \"B\": 38, \"C\": 90, \"D\": 33}\n",
      "{ \"index\" : { \"_index\" : \"dataframe\", \"_type\" : \"record\" }}\n",
      "{\"A\": 44, \"B\": 39, \"C\": 65, \"D\": 20}\n",
      "{ \"index\" : { \"_index\" : \"dataframe\", \"_type\" : \"record\" }}\n",
      "{\"A\": 68, \"B\": 42, \"C\": 9, \"D\": 63}\n",
      "{ \"index\" : { \"_index\" : \"dataframe\", \"_type\" : \"record\" }}\n",
      "{\"A\": 74, \"B\": 55, \"C\": 68, \"D\": 79}\n",
      "{ \"index\" : { \"_index\" : \"dataframe\", \"_type\" : \"record\" }}\n",
      "{\"A\": 67, \"B\": 82, \"C\": 46, \"D\": 88}\n",
      "{ \"index\" : { \"_index\" : \"dataframe\", \"_type\" : \"record\" }}\n",
      "{\"A\": 62, \"B\": 82, \"C\": 80, \"D\": 74}\n",
      "{ \"index\" : { \"_index\" : \"dataframe\", \"_type\" : \"record\" }}\n",
      "{\"A\": 40, \"B\": 8, \"C\": 39, \"D\": 90}\n",
      "{ \"index\" : { \"_index\" : \"dataframe\", \"_type\" : \"record\" }}\n",
      "{\"A\": 36, \"B\": 56, \"C\": 35, \"D\": 72}\n",
      "{ \"index\" : { \"_index\" : \"dataframe\", \"_type\" : \"record\" }}\n",
      "{\"A\": 37, \"B\": 35, \"C\": 40, \"D\": 73}\n",
      "{ \"index\" : { \"_index\" : \"dataframe\", \"_type\" : \"record\" }}\n",
      "{\"A\": 62, \"B\": 70, \"C\": 59, \"D\": 16}\n",
      "{ \"index\" : { \"_index\" : \"dataframe\", \"_type\" : \"record\" }}\n",
      "{\"A\": 83, \"B\": 0, \"C\": 50, \"D\": 36}\n",
      "{ \"index\" : { \"_index\" : \"dataframe\", \"_type\" : \"record\" }}\n",
      "{\"A\": 63, \"B\": 89, \"C\": 74, \"D\": 95}\n",
      "{ \"index\" : { \"_index\" : \"dataframe\", \"_type\" : \"record\" }}\n",
      "{\"A\": 64, \"B\": 70, \"C\": 78, \"D\": 58}\n",
      "{ \"index\" : { \"_index\" : \"dataframe\", \"_type\" : \"record\" }}\n",
      "{\"A\": 28, \"B\": 56, \"C\": 76, \"D\": 21}\n",
      "{ \"index\" : { \"_index\" : \"dataframe\", \"_type\" : \"record\" }}\n",
      "{\"A\": 46, \"B\": 65, \"C\": 18, \"D\": 14}\n",
      "{ \"index\" : { \"_index\" : \"dataframe\", \"_type\" : \"record\" }}\n",
      "{\"A\": 91, \"B\": 16, \"C\": 29, \"D\": 17}\n",
      "{ \"index\" : { \"_index\" : \"dataframe\", \"_type\" : \"record\" }}\n",
      "{\"A\": 27, \"B\": 48, \"C\": 21, \"D\": 18}\n",
      "{ \"index\" : { \"_index\" : \"dataframe\", \"_type\" : \"record\" }}\n",
      "{\"A\": 74, \"B\": 50, \"C\": 4, \"D\": 47}\n",
      "{ \"index\" : { \"_index\" : \"dataframe\", \"_type\" : \"record\" }}\n",
      "{\"A\": 10, \"B\": 0, \"C\": 44, \"D\": 47}\n",
      "{ \"index\" : { \"_index\" : \"dataframe\", \"_type\" : \"record\" }}\n",
      "{\"A\": 22, \"B\": 56, \"C\": 97, \"D\": 80}\n",
      "{ \"index\" : { \"_index\" : \"dataframe\", \"_type\" : \"record\" }}\n",
      "{\"A\": 65, \"B\": 70, \"C\": 31, \"D\": 52}\n",
      "{ \"index\" : { \"_index\" : \"dataframe\", \"_type\" : \"record\" }}\n",
      "{\"A\": 47, \"B\": 4, \"C\": 85, \"D\": 75}\n",
      "{ \"index\" : { \"_index\" : \"dataframe\", \"_type\" : \"record\" }}\n",
      "{\"A\": 15, \"B\": 51, \"C\": 88, \"D\": 2}\n",
      "{ \"index\" : { \"_index\" : \"dataframe\", \"_type\" : \"record\" }}\n",
      "{\"A\": 3, \"B\": 28, \"C\": 96, \"D\": 42}\n",
      "{ \"index\" : { \"_index\" : \"dataframe\", \"_type\" : \"record\" }}\n",
      "{\"A\": 68, \"B\": 53, \"C\": 89, \"D\": 80}\n",
      "{ \"index\" : { \"_index\" : \"dataframe\", \"_type\" : \"record\" }}\n",
      "{\"A\": 94, \"B\": 74, \"C\": 59, \"D\": 81}\n",
      "{ \"index\" : { \"_index\" : \"dataframe\", \"_type\" : \"record\" }}\n",
      "{\"A\": 38, \"B\": 19, \"C\": 15, \"D\": 56}\n",
      "{ \"index\" : { \"_index\" : \"dataframe\", \"_type\" : \"record\" }}\n",
      "{\"A\": 62, \"B\": 98, \"C\": 79, \"D\": 31}\n",
      "{ \"index\" : { \"_index\" : \"dataframe\", \"_type\" : \"record\" }}\n",
      "{\"A\": 39, \"B\": 60, \"C\": 91, \"D\": 32}\n",
      "{ \"index\" : { \"_index\" : \"dataframe\", \"_type\" : \"record\" }}\n",
      "{\"A\": 73, \"B\": 9, \"C\": 55, \"D\": 75}\n",
      "{ \"index\" : { \"_index\" : \"dataframe\", \"_type\" : \"record\" }}\n",
      "{\"A\": 44, \"B\": 92, \"C\": 30, \"D\": 45}\n",
      "{ \"index\" : { \"_index\" : \"dataframe\", \"_type\" : \"record\" }}\n",
      "{\"A\": 22, \"B\": 81, \"C\": 76, \"D\": 90}\n",
      "{ \"index\" : { \"_index\" : \"dataframe\", \"_type\" : \"record\" }}\n",
      "{\"A\": 33, \"B\": 19, \"C\": 5, \"D\": 55}\n",
      "{ \"index\" : { \"_index\" : \"dataframe\", \"_type\" : \"record\" }}\n",
      "{\"A\": 2, \"B\": 84, \"C\": 5, \"D\": 86}\n",
      "{ \"index\" : { \"_index\" : \"dataframe\", \"_type\" : \"record\" }}\n",
      "{\"A\": 72, \"B\": 62, \"C\": 6, \"D\": 18}\n",
      "{ \"index\" : { \"_index\" : \"dataframe\", \"_type\" : \"record\" }}\n",
      "{\"A\": 60, \"B\": 7, \"C\": 47, \"D\": 14}\n",
      "{ \"index\" : { \"_index\" : \"dataframe\", \"_type\" : \"record\" }}\n",
      "{\"A\": 15, \"B\": 0, \"C\": 2, \"D\": 94}\n",
      "{ \"index\" : { \"_index\" : \"dataframe\", \"_type\" : \"record\" }}\n",
      "{\"A\": 10, \"B\": 92, \"C\": 74, \"D\": 74}\n",
      "{ \"index\" : { \"_index\" : \"dataframe\", \"_type\" : \"record\" }}\n",
      "{\"A\": 91, \"B\": 14, \"C\": 38, \"D\": 46}\n",
      "{ \"index\" : { \"_index\" : \"dataframe\", \"_type\" : \"record\" }}\n",
      "{\"A\": 19, \"B\": 3, \"C\": 77, \"D\": 1}\n",
      "{ \"index\" : { \"_index\" : \"dataframe\", \"_type\" : \"record\" }}\n",
      "{\"A\": 47, \"B\": 92, \"C\": 22, \"D\": 17}\n",
      "{ \"index\" : { \"_index\" : \"dataframe\", \"_type\" : \"record\" }}\n",
      "{\"A\": 18, \"B\": 97, \"C\": 49, \"D\": 37}\n",
      "{ \"index\" : { \"_index\" : \"dataframe\", \"_type\" : \"record\" }}\n",
      "{\"A\": 79, \"B\": 89, \"C\": 49, \"D\": 69}\n",
      "{ \"index\" : { \"_index\" : \"dataframe\", \"_type\" : \"record\" }}\n",
      "{\"A\": 68, \"B\": 43, \"C\": 96, \"D\": 30}\n",
      "{ \"index\" : { \"_index\" : \"dataframe\", \"_type\" : \"record\" }}\n",
      "{\"A\": 15, \"B\": 43, \"C\": 74, \"D\": 11}\n",
      "{ \"index\" : { \"_index\" : \"dataframe\", \"_type\" : \"record\" }}\n",
      "{\"A\": 52, \"B\": 66, \"C\": 45, \"D\": 68}\n",
      "{ \"index\" : { \"_index\" : \"dataframe\", \"_type\" : \"record\" }}\n",
      "{\"A\": 98, \"B\": 32, \"C\": 5, \"D\": 81}\n",
      "{ \"index\" : { \"_index\" : \"dataframe\", \"_type\" : \"record\" }}\n",
      "{\"A\": 28, \"B\": 12, \"C\": 30, \"D\": 21}\n",
      "{ \"index\" : { \"_index\" : \"dataframe\", \"_type\" : \"record\" }}\n",
      "{\"A\": 13, \"B\": 47, \"C\": 53, \"D\": 11}\n",
      "{ \"index\" : { \"_index\" : \"dataframe\", \"_type\" : \"record\" }}\n",
      "{\"A\": 31, \"B\": 92, \"C\": 79, \"D\": 30}\n",
      "{ \"index\" : { \"_index\" : \"dataframe\", \"_type\" : \"record\" }}\n",
      "{\"A\": 95, \"B\": 48, \"C\": 98, \"D\": 21}\n",
      "{ \"index\" : { \"_index\" : \"dataframe\", \"_type\" : \"record\" }}\n",
      "{\"A\": 33, \"B\": 45, \"C\": 62, \"D\": 64}\n",
      "{ \"index\" : { \"_index\" : \"dataframe\", \"_type\" : \"record\" }}\n",
      "{\"A\": 83, \"B\": 40, \"C\": 68, \"D\": 23}\n",
      "{ \"index\" : { \"_index\" : \"dataframe\", \"_type\" : \"record\" }}\n",
      "{\"A\": 77, \"B\": 28, \"C\": 2, \"D\": 23}\n",
      "{ \"index\" : { \"_index\" : \"dataframe\", \"_type\" : \"record\" }}\n",
      "{\"A\": 52, \"B\": 67, \"C\": 21, \"D\": 78}\n",
      "{ \"index\" : { \"_index\" : \"dataframe\", \"_type\" : \"record\" }}\n",
      "{\"A\": 53, \"B\": 91, \"C\": 47, \"D\": 21}\n",
      "{ \"index\" : { \"_index\" : \"dataframe\", \"_type\" : \"record\" }}\n",
      "{\"A\": 17, \"B\": 27, \"C\": 76, \"D\": 70}\n",
      "{ \"index\" : { \"_index\" : \"dataframe\", \"_type\" : \"record\" }}\n",
      "{\"A\": 15, \"B\": 63, \"C\": 88, \"D\": 33}\n",
      "{ \"index\" : { \"_index\" : \"dataframe\", \"_type\" : \"record\" }}\n",
      "{\"A\": 68, \"B\": 99, \"C\": 49, \"D\": 34}\n",
      "{ \"index\" : { \"_index\" : \"dataframe\", \"_type\" : \"record\" }}\n",
      "{\"A\": 66, \"B\": 42, \"C\": 69, \"D\": 40}\n",
      "{ \"index\" : { \"_index\" : \"dataframe\", \"_type\" : \"record\" }}\n",
      "{\"A\": 58, \"B\": 33, \"C\": 3, \"D\": 46}\n",
      "{ \"index\" : { \"_index\" : \"dataframe\", \"_type\" : \"record\" }}\n",
      "{\"A\": 71, \"B\": 34, \"C\": 62, \"D\": 1}\n",
      "{ \"index\" : { \"_index\" : \"dataframe\", \"_type\" : \"record\" }}\n",
      "{\"A\": 69, \"B\": 88, \"C\": 95, \"D\": 82}\n",
      "{ \"index\" : { \"_index\" : \"dataframe\", \"_type\" : \"record\" }}\n",
      "{\"A\": 74, \"B\": 62, \"C\": 74, \"D\": 6}\n",
      "{ \"index\" : { \"_index\" : \"dataframe\", \"_type\" : \"record\" }}\n",
      "{\"A\": 99, \"B\": 65, \"C\": 54, \"D\": 98}\n",
      "{ \"index\" : { \"_index\" : \"dataframe\", \"_type\" : \"record\" }}\n",
      "{\"A\": 3, \"B\": 13, \"C\": 73, \"D\": 72}\n",
      "{ \"index\" : { \"_index\" : \"dataframe\", \"_type\" : \"record\" }}\n",
      "{\"A\": 76, \"B\": 17, \"C\": 18, \"D\": 25}\n",
      "{ \"index\" : { \"_index\" : \"dataframe\", \"_type\" : \"record\" }}\n",
      "{\"A\": 24, \"B\": 39, \"C\": 55, \"D\": 46}\n",
      "{ \"index\" : { \"_index\" : \"dataframe\", \"_type\" : \"record\" }}\n",
      "{\"A\": 90, \"B\": 81, \"C\": 92, \"D\": 57}\n",
      "{ \"index\" : { \"_index\" : \"dataframe\", \"_type\" : \"record\" }}\n",
      "{\"A\": 62, \"B\": 0, \"C\": 41, \"D\": 71}\n",
      "{ \"index\" : { \"_index\" : \"dataframe\", \"_type\" : \"record\" }}\n",
      "{\"A\": 23, \"B\": 91, \"C\": 42, \"D\": 9}\n",
      "{ \"index\" : { \"_index\" : \"dataframe\", \"_type\" : \"record\" }}\n",
      "{\"A\": 4, \"B\": 25, \"C\": 69, \"D\": 41}\n",
      "{ \"index\" : { \"_index\" : \"dataframe\", \"_type\" : \"record\" }}\n",
      "{\"A\": 32, \"B\": 20, \"C\": 80, \"D\": 42}\n",
      "{ \"index\" : { \"_index\" : \"dataframe\", \"_type\" : \"record\" }}\n",
      "{\"A\": 80, \"B\": 79, \"C\": 26, \"D\": 28}\n",
      "{ \"index\" : { \"_index\" : \"dataframe\", \"_type\" : \"record\" }}\n",
      "{\"A\": 46, \"B\": 31, \"C\": 38, \"D\": 44}\n",
      "{ \"index\" : { \"_index\" : \"dataframe\", \"_type\" : \"record\" }}\n",
      "{\"A\": 52, \"B\": 35, \"C\": 12, \"D\": 11}\n",
      "{ \"index\" : { \"_index\" : \"dataframe\", \"_type\" : \"record\" }}\n",
      "{\"A\": 62, \"B\": 79, \"C\": 89, \"D\": 12}\n",
      "{ \"index\" : { \"_index\" : \"dataframe\", \"_type\" : \"record\" }}\n",
      "{\"A\": 20, \"B\": 78, \"C\": 89, \"D\": 28}\n",
      "{ \"index\" : { \"_index\" : \"dataframe\", \"_type\" : \"record\" }}\n",
      "{\"A\": 79, \"B\": 59, \"C\": 14, \"D\": 14}\n",
      "{ \"index\" : { \"_index\" : \"dataframe\", \"_type\" : \"record\" }}\n",
      "{\"A\": 61, \"B\": 87, \"C\": 24, \"D\": 35}\n",
      "{ \"index\" : { \"_index\" : \"dataframe\", \"_type\" : \"record\" }}\n",
      "{\"A\": 80, \"B\": 80, \"C\": 41, \"D\": 27}\n",
      "{ \"index\" : { \"_index\" : \"dataframe\", \"_type\" : \"record\" }}\n",
      "{\"A\": 77, \"B\": 5, \"C\": 50, \"D\": 62}\n",
      "{ \"index\" : { \"_index\" : \"dataframe\", \"_type\" : \"record\" }}\n",
      "{\"A\": 41, \"B\": 26, \"C\": 20, \"D\": 9}\n",
      "{ \"index\" : { \"_index\" : \"dataframe\", \"_type\" : \"record\" }}\n",
      "{\"A\": 50, \"B\": 26, \"C\": 5, \"D\": 5}\n",
      "{ \"index\" : { \"_index\" : \"dataframe\", \"_type\" : \"record\" }}\n",
      "{\"A\": 54, \"B\": 69, \"C\": 88, \"D\": 94}\n",
      "{ \"index\" : { \"_index\" : \"dataframe\", \"_type\" : \"record\" }}\n",
      "{\"A\": 95, \"B\": 83, \"C\": 87, \"D\": 67}\n",
      "{ \"index\" : { \"_index\" : \"dataframe\", \"_type\" : \"record\" }}\n",
      "{\"A\": 13, \"B\": 80, \"C\": 50, \"D\": 0}\n",
      "{ \"index\" : { \"_index\" : \"dataframe\", \"_type\" : \"record\" }}\n",
      "{\"A\": 35, \"B\": 16, \"C\": 43, \"D\": 85}\n",
      "{ \"index\" : { \"_index\" : \"dataframe\", \"_type\" : \"record\" }}\n",
      "{\"A\": 82, \"B\": 27, \"C\": 80, \"D\": 68}\n",
      "{ \"index\" : { \"_index\" : \"dataframe\", \"_type\" : \"record\" }}\n",
      "{\"A\": 65, \"B\": 39, \"C\": 3, \"D\": 63}\n",
      "{ \"index\" : { \"_index\" : \"dataframe\", \"_type\" : \"record\" }}\n",
      "{\"A\": 79, \"B\": 31, \"C\": 76, \"D\": 72}\n",
      "{ \"index\" : { \"_index\" : \"dataframe\", \"_type\" : \"record\" }}\n",
      "{\"A\": 91, \"B\": 70, \"C\": 31, \"D\": 59}\n",
      "{ \"index\" : { \"_index\" : \"dataframe\", \"_type\" : \"record\" }}\n",
      "{\"A\": 27, \"B\": 16, \"C\": 93, \"D\": 2}\n",
      "{ \"index\" : { \"_index\" : \"dataframe\", \"_type\" : \"record\" }}\n",
      "{\"A\": 26, \"B\": 35, \"C\": 63, \"D\": 28}\n",
      "{ \"index\" : { \"_index\" : \"dataframe\", \"_type\" : \"record\" }}\n",
      "{\"A\": 81, \"B\": 81, \"C\": 70, \"D\": 12}\n"
     ]
    }
   ],
   "source": [
    "import json\n",
    "for record in df.to_dict(orient=\"records\"):\n",
    "    print('{ \"index\" : { \"_index\" : \"%s\", \"_type\" : \"%s\" }}'% (INDEX, TYPE))\n",
    "    print(json.dumps(record, default=int))"
   ]
  },
  {
   "cell_type": "code",
   "execution_count": 160,
   "metadata": {},
   "outputs": [],
   "source": [
    "def rec_to_actions(df):\n",
    "    import json\n",
    "    for record in df.to_dict(orient=\"records\"):\n",
    "        yield ('{ \"index\" : { \"_index\" : \"%s\", \"_type\" : \"%s\" }}'% (INDEX, TYPE))\n",
    "        yield (json.dumps(record, default=int))"
   ]
  },
  {
   "cell_type": "code",
   "execution_count": 161,
   "metadata": {},
   "outputs": [
    {
     "data": {
      "text/plain": [
       "<generator object rec_to_actions at 0x119e1dc50>"
      ]
     },
     "execution_count": 161,
     "metadata": {},
     "output_type": "execute_result"
    }
   ],
   "source": [
    "rec_to_actions(df)"
   ]
  },
  {
   "cell_type": "code",
   "execution_count": 162,
   "metadata": {},
   "outputs": [
    {
     "data": {
      "text/plain": [
       "<Elasticsearch([{'host': '35.194.152.180', 'port': 9200}])>"
      ]
     },
     "execution_count": 162,
     "metadata": {},
     "output_type": "execute_result"
    }
   ],
   "source": [
    "es"
   ]
  },
  {
   "cell_type": "code",
   "execution_count": 163,
   "metadata": {},
   "outputs": [
    {
     "name": "stdout",
     "output_type": "stream",
     "text": [
      "True\n"
     ]
    }
   ],
   "source": [
    "if not es.indices.exists(INDEX):\n",
    "    raise RuntimeError('index does not exists, use `curl -X PUT \"localhost:9200/%s\"` and try again'%INDEX)\n",
    "\n",
    "r = es.bulk(rec_to_actions(df)) # return a dict\n",
    "\n",
    "print(not r[\"errors\"])"
   ]
  },
  {
   "cell_type": "code",
   "execution_count": 155,
   "metadata": {},
   "outputs": [
    {
     "data": {
      "text/plain": [
       "pandas.core.frame.DataFrame"
      ]
     },
     "execution_count": 155,
     "metadata": {},
     "output_type": "execute_result"
    }
   ],
   "source": [
    "type(df)"
   ]
  },
  {
   "cell_type": "code",
   "execution_count": 102,
   "metadata": {},
   "outputs": [],
   "source": [
    "import pandas as pd\n",
    "import numpy as np\n",
    "from espandas import Espandas"
   ]
  },
  {
   "cell_type": "code",
   "execution_count": 43,
   "metadata": {},
   "outputs": [],
   "source": [
    "df = (100 * pd.DataFrame(np.round(np.random.rand(100, 5), 2))).astype(int)\n",
    "df.columns = ['A', 'B', 'C', 'D', 'E']\n",
    "df['indexId'] = (df.index + 100).astype(str)"
   ]
  },
  {
   "cell_type": "code",
   "execution_count": 44,
   "metadata": {},
   "outputs": [],
   "source": [
    "INDEX = 'foo_index'\n",
    "TYPE = 'bar_type'\n",
    "esp = Espandas()"
   ]
  },
  {
   "cell_type": "code",
   "execution_count": 45,
   "metadata": {},
   "outputs": [
    {
     "name": "stderr",
     "output_type": "stream",
     "text": [
      "/Library/Frameworks/Python.framework/Versions/3.6/lib/python3.6/site-packages/espandas/espandas.py:85: FutureWarning: '.reindex_axis' is deprecated and will be removed in a future version. Use '.reindex' instead.\n",
      "  df = df.reindex_axis(sorted(df.columns), axis=1)\n"
     ]
    }
   ],
   "source": [
    "esp.es_write(df, INDEX, TYPE)"
   ]
  },
  {
   "cell_type": "code",
   "execution_count": 90,
   "metadata": {},
   "outputs": [],
   "source": [
    "def pd_elastic(df):\n",
    "    from espandas import Espandas\n",
    "    df['indexId'] = (df.index).astype(str)\n",
    "    INDEX = input('index name: ')\n",
    "    TYPE = input('type name: ')\n",
    "    esp = Espandas()\n",
    "    esp.es_write(df, INDEX, TYPE)"
   ]
  },
  {
   "cell_type": "code",
   "execution_count": 24,
   "metadata": {},
   "outputs": [
    {
     "name": "stderr",
     "output_type": "stream",
     "text": [
      "/Library/Frameworks/Python.framework/Versions/3.6/lib/python3.6/site-packages/ipykernel_launcher.py:3: SettingWithCopyWarning: \n",
      "A value is trying to be set on a copy of a slice from a DataFrame.\n",
      "Try using .loc[row_indexer,col_indexer] = value instead\n",
      "\n",
      "See the caveats in the documentation: http://pandas.pydata.org/pandas-docs/stable/indexing.html#indexing-view-versus-copy\n",
      "  This is separate from the ipykernel package so we can avoid doing imports until\n"
     ]
    }
   ],
   "source": [
    "df = pd.read_csv('f100.csv')\n",
    "f100_t = df.head(15)\n",
    "f100_t['indexId'] = (f100_t.index).astype(str)"
   ]
  },
  {
   "cell_type": "code",
   "execution_count": 31,
   "metadata": {},
   "outputs": [
    {
     "name": "stdout",
     "output_type": "stream",
     "text": [
      "Help on function astype in module pandas.core.indexes.base:\n",
      "\n",
      "astype(self, dtype, copy=True)\n",
      "    Create an Index with values cast to dtypes. The class of a new Index\n",
      "    is determined by dtype. When conversion is impossible, a ValueError\n",
      "    exception is raised.\n",
      "    \n",
      "    Parameters\n",
      "    ----------\n",
      "    dtype : numpy dtype or pandas type\n",
      "    copy : bool, default True\n",
      "        By default, astype always returns a newly allocated object.\n",
      "        If copy is set to False and internal requirements on dtype are\n",
      "        satisfied, the original data is used to create a new Index\n",
      "        or the original Index is returned.\n",
      "    \n",
      "        .. versionadded:: 0.19.0\n",
      "\n"
     ]
    }
   ],
   "source": [
    "help(pd.core.indexes.range.RangeIndex.astype)"
   ]
  },
  {
   "cell_type": "code",
   "execution_count": 25,
   "metadata": {},
   "outputs": [
    {
     "name": "stderr",
     "output_type": "stream",
     "text": [
      "/Library/Frameworks/Python.framework/Versions/3.6/lib/python3.6/site-packages/espandas/espandas.py:85: FutureWarning: '.reindex_axis' is deprecated and will be removed in a future version. Use '.reindex' instead.\n",
      "  df = df.reindex_axis(sorted(df.columns), axis=1)\n"
     ]
    }
   ],
   "source": [
    "INDEX = 'f100_t_index'\n",
    "TYPE = 'f100_t_type'\n",
    "esp = Espandas()\n",
    "esp.es_write(f100_t, INDEX, TYPE)"
   ]
  },
  {
   "cell_type": "code",
   "execution_count": 23,
   "metadata": {},
   "outputs": [
    {
     "name": "stdout",
     "output_type": "stream",
     "text": [
      "Help on method es_write in module espandas.espandas:\n",
      "\n",
      "es_write(df, index, doc_type, index_name='indexId') method of espandas.espandas.Espandas instance\n",
      "    Insert a Pandas DataFrame into ElasticSearch\n",
      "    :param df: the DataFrame, must contain the column 'indexId' for a unique identifier\n",
      "    :param index: the ElasticSearch index\n",
      "    :param doc_type: the ElasticSearch doc_type\n",
      "\n"
     ]
    }
   ],
   "source": [
    "help(esp.es_write)"
   ]
  },
  {
   "cell_type": "code",
   "execution_count": 29,
   "metadata": {},
   "outputs": [
    {
     "data": {
      "text/plain": [
       "pandas.core.indexes.range.RangeIndex"
      ]
     },
     "execution_count": 29,
     "metadata": {},
     "output_type": "execute_result"
    }
   ],
   "source": [
    "type(f100_t.index)"
   ]
  },
  {
   "cell_type": "code",
   "execution_count": 46,
   "metadata": {},
   "outputs": [],
   "source": [
    "df = pd.read_csv('rsi_t.csv')"
   ]
  },
  {
   "cell_type": "code",
   "execution_count": 84,
   "metadata": {},
   "outputs": [
    {
     "data": {
      "text/html": [
       "<div>\n",
       "<style scoped>\n",
       "    .dataframe tbody tr th:only-of-type {\n",
       "        vertical-align: middle;\n",
       "    }\n",
       "\n",
       "    .dataframe tbody tr th {\n",
       "        vertical-align: top;\n",
       "    }\n",
       "\n",
       "    .dataframe thead th {\n",
       "        text-align: right;\n",
       "    }\n",
       "</style>\n",
       "<table border=\"1\" class=\"dataframe\">\n",
       "  <thead>\n",
       "    <tr style=\"text-align: right;\">\n",
       "      <th></th>\n",
       "      <th>es_date</th>\n",
       "      <th>raw_date</th>\n",
       "      <th>btc_volume</th>\n",
       "      <th>btc_price</th>\n",
       "      <th>RSI_6</th>\n",
       "      <th>RSI_9</th>\n",
       "      <th>RSI_15</th>\n",
       "      <th>indexId</th>\n",
       "    </tr>\n",
       "  </thead>\n",
       "  <tbody>\n",
       "    <tr>\n",
       "      <th>0</th>\n",
       "      <td>2010-07-24T00:00:00Z</td>\n",
       "      <td>20100724</td>\n",
       "      <td>10400.000000</td>\n",
       "      <td>0.053</td>\n",
       "      <td>NaN</td>\n",
       "      <td>NaN</td>\n",
       "      <td>NaN</td>\n",
       "      <td>0</td>\n",
       "    </tr>\n",
       "    <tr>\n",
       "      <th>1</th>\n",
       "      <td>2011-03-01T00:00:00Z</td>\n",
       "      <td>20110301</td>\n",
       "      <td>79956.000000</td>\n",
       "      <td>0.930</td>\n",
       "      <td>NaN</td>\n",
       "      <td>NaN</td>\n",
       "      <td>NaN</td>\n",
       "      <td>1</td>\n",
       "    </tr>\n",
       "    <tr>\n",
       "      <th>2</th>\n",
       "      <td>2011-06-04T00:00:00Z</td>\n",
       "      <td>20110604</td>\n",
       "      <td>0.001000</td>\n",
       "      <td>17.830</td>\n",
       "      <td>NaN</td>\n",
       "      <td>NaN</td>\n",
       "      <td>NaN</td>\n",
       "      <td>2</td>\n",
       "    </tr>\n",
       "    <tr>\n",
       "      <th>3</th>\n",
       "      <td>2011-08-08T00:00:00Z</td>\n",
       "      <td>20110808</td>\n",
       "      <td>10770.515208</td>\n",
       "      <td>8.890</td>\n",
       "      <td>NaN</td>\n",
       "      <td>NaN</td>\n",
       "      <td>NaN</td>\n",
       "      <td>3</td>\n",
       "    </tr>\n",
       "    <tr>\n",
       "      <th>4</th>\n",
       "      <td>2012-06-22T00:00:00Z</td>\n",
       "      <td>20120622</td>\n",
       "      <td>0.031337</td>\n",
       "      <td>6.490</td>\n",
       "      <td>NaN</td>\n",
       "      <td>NaN</td>\n",
       "      <td>NaN</td>\n",
       "      <td>4</td>\n",
       "    </tr>\n",
       "  </tbody>\n",
       "</table>\n",
       "</div>"
      ],
      "text/plain": [
       "                es_date  raw_date    btc_volume  btc_price  RSI_6  RSI_9  \\\n",
       "0  2010-07-24T00:00:00Z  20100724  10400.000000      0.053    NaN    NaN   \n",
       "1  2011-03-01T00:00:00Z  20110301  79956.000000      0.930    NaN    NaN   \n",
       "2  2011-06-04T00:00:00Z  20110604      0.001000     17.830    NaN    NaN   \n",
       "3  2011-08-08T00:00:00Z  20110808  10770.515208      8.890    NaN    NaN   \n",
       "4  2012-06-22T00:00:00Z  20120622      0.031337      6.490    NaN    NaN   \n",
       "\n",
       "   RSI_15 indexId  \n",
       "0     NaN       0  \n",
       "1     NaN       1  \n",
       "2     NaN       2  \n",
       "3     NaN       3  \n",
       "4     NaN       4  "
      ]
     },
     "execution_count": 84,
     "metadata": {},
     "output_type": "execute_result"
    }
   ],
   "source": [
    "df.head()"
   ]
  },
  {
   "cell_type": "code",
   "execution_count": 81,
   "metadata": {},
   "outputs": [
    {
     "name": "stderr",
     "output_type": "stream",
     "text": [
      "/Library/Frameworks/Python.framework/Versions/3.6/lib/python3.6/site-packages/espandas/espandas.py:85: FutureWarning: '.reindex_axis' is deprecated and will be removed in a future version. Use '.reindex' instead.\n",
      "  df = df.reindex_axis(sorted(df.columns), axis=1)\n"
     ]
    }
   ],
   "source": [
    "df['indexId'] = (df.index).astype(str)\n",
    "INDEX = 'rsi_index'\n",
    "TYPE = 'rsi_type'\n",
    "esp = Espandas()\n",
    "esp.es_write(df, INDEX, TYPE)"
   ]
  },
  {
   "cell_type": "code",
   "execution_count": 164,
   "metadata": {},
   "outputs": [
    {
     "name": "stdout",
     "output_type": "stream",
     "text": [
      "Help on method bulk in module elasticsearch.client:\n",
      "\n",
      "bulk(body, index=None, doc_type=None, params=None) method of elasticsearch.client.Elasticsearch instance\n",
      "    Perform many index/delete operations in a single API call.\n",
      "    \n",
      "    See the :func:`~elasticsearch.helpers.bulk` helper function for a more\n",
      "    friendly API.\n",
      "    `<http://www.elastic.co/guide/en/elasticsearch/reference/current/docs-bulk.html>`_\n",
      "    \n",
      "    :arg body: The operation definition and data (action-data pairs),\n",
      "        separated by newlines\n",
      "    :arg index: Default index for items which don't provide one\n",
      "    :arg doc_type: Default document type for items which don't provide one\n",
      "    :arg _source: True or false to return the _source field or not, or\n",
      "        default list of fields to return, can be overridden on each sub-\n",
      "        request\n",
      "    :arg _source_exclude: Default list of fields to exclude from the\n",
      "        returned _source field, can be overridden on each sub-request\n",
      "    :arg _source_include: Default list of fields to extract and return from\n",
      "        the _source field, can be overridden on each sub-request\n",
      "    :arg fields: Default comma-separated list of fields to return in the\n",
      "        response for updates, can be overridden on each sub-request\n",
      "    :arg pipeline: The pipeline id to preprocess incoming documents with\n",
      "    :arg refresh: If `true` then refresh the effected shards to make this\n",
      "        operation visible to search, if `wait_for` then wait for a refresh\n",
      "        to make this operation visible to search, if `false` (the default)\n",
      "        then do nothing with refreshes., valid choices are: 'true', 'false',\n",
      "        'wait_for'\n",
      "    :arg routing: Specific routing value\n",
      "    :arg timeout: Explicit operation timeout\n",
      "    :arg wait_for_active_shards: Sets the number of shard copies that must\n",
      "        be active before proceeding with the bulk operation. Defaults to 1,\n",
      "        meaning the primary shard only. Set to `all` for all shard copies,\n",
      "        otherwise set to any non-negative value less than or equal to the\n",
      "        total number of copies for the shard (number of replicas + 1)\n",
      "\n"
     ]
    }
   ],
   "source": [
    "help(es.bulk)"
   ]
  },
  {
   "cell_type": "code",
   "execution_count": null,
   "metadata": {},
   "outputs": [],
   "source": []
  }
 ],
 "metadata": {
  "kernelspec": {
   "display_name": "Python 3",
   "language": "python",
   "name": "python3"
  },
  "language_info": {
   "codemirror_mode": {
    "name": "ipython",
    "version": 3
   },
   "file_extension": ".py",
   "mimetype": "text/x-python",
   "name": "python",
   "nbconvert_exporter": "python",
   "pygments_lexer": "ipython3",
   "version": "3.6.5"
  }
 },
 "nbformat": 4,
 "nbformat_minor": 2
}
