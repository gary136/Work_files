{
 "cells": [
  {
   "cell_type": "code",
   "execution_count": 103,
   "metadata": {},
   "outputs": [],
   "source": [
    "import requests\n",
    "import time\n",
    "import random\n",
    "from bs4 import BeautifulSoup\n",
    "\n",
    "def google_scrape(keywords):\n",
    "    title_list=[]\n",
    "    base='https://www.google.com.tw/search?q={}&rlz=1C5CHFA_enTW810TW810&source=lnms&tbm=nws&sa=X&ved=0ahUKEwj7q8fP2ofeAhUQ6LwKHe86AtYQ_AUIDygC&biw=1440&bih=803&dpr=2'\n",
    "    url = base.format(keywords.replace(' ', '+'))\n",
    "    user_agents = ['Mozilla/5.0 (Windows NT 6.1; WOW64; rv:23.0) Gecko/20130406 Firefox/23.0', \\\n",
    "          'Mozilla/5.0 (Windows NT 6.1; WOW64; rv:18.0) Gecko/20100101 Firefox/18.0', \\\n",
    "          'Mozilla/5.0 (Windows; U; Windows NT 6.1; en-US) AppleWebKit/533+ \\\n",
    "          (KHTML, like Gecko) Element Browser 5.0', \\\n",
    "          'IBM WebExplorer /v0.94', 'Galaxy/1.0 [en] (Mac OS X 10.5.6; U; en)', \\\n",
    "          'Mozilla/5.0 (compatible; MSIE 10.0; Windows NT 6.1; WOW64; Trident/6.0)', \\\n",
    "          'Opera/9.80 (Windows NT 6.0) Presto/2.12.388 Version/12.14', \\\n",
    "          'Mozilla/5.0 (iPad; CPU OS 6_0 like Mac OS X) AppleWebKit/536.26 (KHTML, like Gecko) \\\n",
    "           Version/6.0 Mobile/10A5355d Safari/8536.25', \\\n",
    "          'Mozilla/5.0 (Windows NT 6.1) AppleWebKit/537.36 (KHTML, like Gecko) \\\n",
    "           Chrome/28.0.1468.0 Safari/537.36', \\\n",
    "          'Mozilla/5.0 (compatible; MSIE 9.0; Windows NT 6.0; Trident/5.0; TheWorld)']   \n",
    "#     proxies = {\n",
    "#       \"http\": \"http://113.200.214.164:9999\"}\n",
    "    index = random.randint(0, 9)\n",
    "    user_agent = user_agents[index]\n",
    "    res=requests.get(url,user_agent)\n",
    "    soup=BeautifulSoup(res.text, \"html.parser\")\n",
    "    res = {result.find(\"a\").text:result.find(\"a\")['href'][7:].split('&sa')[0] for result in soup.find_all(\"div\", class_=\"g\")}\n",
    "    def email_str(d):\n",
    "        gen = iter(d.items())\n",
    "        contents = '{} News - {}\\n\\n'.format(time.strftime(\"%Y-%m-%d\", time.localtime()), keywords)\n",
    "        while True:\n",
    "            try:\n",
    "                one = next(gen)\n",
    "                contents += '{}  |  {} {}'.format(one[0], one[1], '\\n\\n')\n",
    "            except StopIteration:\n",
    "                print('StopIteration')\n",
    "                break\n",
    "        return contents\n",
    "    res = email_str(res)\n",
    "    return res"
   ]
  },
  {
   "cell_type": "code",
   "execution_count": 104,
   "metadata": {},
   "outputs": [
    {
     "name": "stdout",
     "output_type": "stream",
     "text": [
      "StopIteration\n",
      "2018-10-16 News - crypto regulation swiss\n",
      "\n",
      "Switzerland and Israel Collaborate on Cryptocurrency & Blockchain ...  |  https://www.ccn.com/switzerland-and-israel-collaborate-on-cryptocurrency-blockchain-regulation/ \n",
      "\n",
      "Former UBS bankers to set up regulated crypto-bank  |  https://www.ft.com/content/97bbbd30-c18b-11e8-95b1-d36dfef1b89a \n",
      "\n",
      "Switzerland Teams Up With Liechtenstein To Show $44 Bln Crypto ...  |  https://bitnewstoday.com/news/regulation/switzerland-teams-up-with-liechtenstein-to-show-44-bln-crypto-market-valuation/ \n",
      "\n",
      "Crypto Fund Mulls Asian Expansion  |  https://www.finews.asia/finance/27594-crypto-fund-jan-brzezek-singapore-asia-expansion-finma-license \n",
      "\n",
      "Cryptocurrencies: Israel enters into crypto partnership with Switzerland  |  https://www.euromoney.com/article/b1b9n4xg6502hd/cryptocurrencies-israel-enters-into-crypto-partnership-with-switzerland \n",
      "\n",
      "Switzerland Eases Crypto Regulations to Prevent Market Withdrawal  |  https://unhashed.com/cryptocurrency-news/switzerland-eases-crypto-regulations-prevent-market-withdrawal/ \n",
      "\n",
      "Swiss Financial Watchdog Issues Country's First Crypto Asset ...  |  https://cointelegraph.com/news/swiss-financial-watchdog-issues-countrys-first-crypto-asset-management-license \n",
      "\n",
      "Swiss Bankers Ease Access for Crypto Startups to Prevent Mass ...  |  https://cointelegraph.com/news/swiss-bankers-ease-access-for-crypto-startups-to-prevent-mass-exodus \n",
      "\n",
      "Swiss springboard for Bitmain's European crypto expansion  |  https://www.swissinfo.ch/eng/business/cryptocurrency-giant_swiss-springboard-for-bitmain-s-european-crypto-expansion/44405096 \n",
      "\n",
      "Crypto Finance eyes Asian expansion after winning Swiss license  |  https://www.swissinfo.ch/eng/finma-approval_crypto-finance-eyes-asian-expansion-after-winning-swiss-license/44465638 \n",
      "\n",
      "\n"
     ]
    }
   ],
   "source": [
    "print(google_scrape('crypto regulation swiss'))"
   ]
  },
  {
   "cell_type": "code",
   "execution_count": 25,
   "metadata": {},
   "outputs": [
    {
     "data": {
      "text/plain": [
       "'/url?q=https://www.finews.asia/finance/27594-crypto-fund-jan-brzezek-singapore-asia-expansion-finma-license&sa=U&ved=0ahUKEwi8tdeV3IfeAhULWLwKHSgQBRIQqQIIEygAMAA&usg=AOvVaw1clAR7cZZVtuWDabHUwHjL'"
      ]
     },
     "execution_count": 25,
     "metadata": {},
     "output_type": "execute_result"
    }
   ],
   "source": [
    "soup.find_all(\"div\", class_=\"g\")[0].find(\"a\")['href']"
   ]
  },
  {
   "cell_type": "code",
   "execution_count": 16,
   "metadata": {},
   "outputs": [],
   "source": [
    "res = {result.find(\"a\").text:result.find(\"a\")['href'][7:].split('&sa')[0] for result in soup.find_all(\"div\", class_=\"g\")}"
   ]
  },
  {
   "cell_type": "code",
   "execution_count": 34,
   "metadata": {},
   "outputs": [],
   "source": [
    "import pprint"
   ]
  },
  {
   "cell_type": "code",
   "execution_count": 38,
   "metadata": {},
   "outputs": [
    {
     "name": "stdout",
     "output_type": "stream",
     "text": [
      "{'Crypto Finance eyes Asian expansion after winning Swiss license': 'https://www.swissinfo.ch/eng/finma-approval_crypto-finance-eyes-asian-expansion-after-winning-swiss-license/44465638',\n",
      " 'Crypto Fund Mulls Asian Expansion': 'https://www.finews.asia/finance/27594-crypto-fund-jan-brzezek-singapore-asia-expansion-finma-license',\n",
      " 'Cryptocurrencies: Israel enters into crypto partnership with Switzerland': 'https://www.euromoney.com/article/b1b9n4xg6502hd/cryptocurrencies-israel-enters-into-crypto-partnership-with-switzerland',\n",
      " 'Former UBS bankers to set up regulated crypto-bank': 'https://www.ft.com/content/97bbbd30-c18b-11e8-95b1-d36dfef1b89a',\n",
      " 'Swiss Bankers Ease Access for Crypto Startups to Prevent Mass ...': 'https://cointelegraph.com/news/swiss-bankers-ease-access-for-crypto-startups-to-prevent-mass-exodus',\n",
      " \"Swiss Financial Watchdog Issues Country's First Crypto Asset ...\": 'https://cointelegraph.com/news/swiss-financial-watchdog-issues-countrys-first-crypto-asset-management-license',\n",
      " \"Swiss springboard for Bitmain's European crypto expansion\": 'https://www.swissinfo.ch/eng/business/cryptocurrency-giant_swiss-springboard-for-bitmain-s-european-crypto-expansion/44405096',\n",
      " 'Switzerland Eases Crypto Regulations to Prevent Market Withdrawal': 'https://unhashed.com/cryptocurrency-news/switzerland-eases-crypto-regulations-prevent-market-withdrawal/',\n",
      " 'Switzerland Teams Up With Liechtenstein To Show $44 Bln Crypto ...': 'https://bitnewstoday.com/news/regulation/switzerland-teams-up-with-liechtenstein-to-show-44-bln-crypto-market-valuation/',\n",
      " 'Switzerland and Israel Collaborate on Cryptocurrency & Blockchain ...': 'https://www.ccn.com/switzerland-and-israel-collaborate-on-cryptocurrency-blockchain-regulation/'}\n"
     ]
    }
   ],
   "source": [
    "pprint.pprint(res)"
   ]
  },
  {
   "cell_type": "code",
   "execution_count": 61,
   "metadata": {},
   "outputs": [
    {
     "name": "stdout",
     "output_type": "stream",
     "text": [
      "StopIteration\n"
     ]
    }
   ],
   "source": [
    "gen = iter(res.items())\n",
    "a = ''\n",
    "while True:\n",
    "    try:\n",
    "        t = next(gen)\n",
    "        a += '{} | {} {}'.format(t[0], t[1], '\\n\\n')\n",
    "    except StopIteration:\n",
    "        print('StopIteration')\n",
    "        break"
   ]
  },
  {
   "cell_type": "code",
   "execution_count": 62,
   "metadata": {},
   "outputs": [
    {
     "name": "stdout",
     "output_type": "stream",
     "text": [
      "Switzerland Teams Up With Liechtenstein To Show $44 Bln Crypto ... | https://bitnewstoday.com/news/regulation/switzerland-teams-up-with-liechtenstein-to-show-44-bln-crypto-market-valuation/ \n",
      "\n",
      "Switzerland and Israel Collaborate on Cryptocurrency & Blockchain ... | https://www.ccn.com/switzerland-and-israel-collaborate-on-cryptocurrency-blockchain-regulation/ \n",
      "\n",
      "Former UBS bankers to set up regulated crypto-bank | https://www.ft.com/content/97bbbd30-c18b-11e8-95b1-d36dfef1b89a \n",
      "\n",
      "Crypto Fund Mulls Asian Expansion | https://www.finews.asia/finance/27594-crypto-fund-jan-brzezek-singapore-asia-expansion-finma-license \n",
      "\n",
      "Cryptocurrencies: Israel enters into crypto partnership with Switzerland | https://www.euromoney.com/article/b1b9n4xg6502hd/cryptocurrencies-israel-enters-into-crypto-partnership-with-switzerland \n",
      "\n",
      "Swiss Financial Watchdog Issues Country's First Crypto Asset ... | https://cointelegraph.com/news/swiss-financial-watchdog-issues-countrys-first-crypto-asset-management-license \n",
      "\n",
      "Switzerland Eases Crypto Regulations to Prevent Market Withdrawal | https://unhashed.com/cryptocurrency-news/switzerland-eases-crypto-regulations-prevent-market-withdrawal/ \n",
      "\n",
      "Swiss Bankers Ease Access for Crypto Startups to Prevent Mass ... | https://cointelegraph.com/news/swiss-bankers-ease-access-for-crypto-startups-to-prevent-mass-exodus \n",
      "\n",
      "Swiss springboard for Bitmain's European crypto expansion | https://www.swissinfo.ch/eng/business/cryptocurrency-giant_swiss-springboard-for-bitmain-s-european-crypto-expansion/44405096 \n",
      "\n",
      "Crypto Finance eyes Asian expansion after winning Swiss license | https://www.swissinfo.ch/eng/finma-approval_crypto-finance-eyes-asian-expansion-after-winning-swiss-license/44465638 \n",
      "\n",
      "\n"
     ]
    }
   ],
   "source": [
    "print(a)"
   ]
  },
  {
   "cell_type": "code",
   "execution_count": 63,
   "metadata": {},
   "outputs": [
    {
     "data": {
      "text/plain": [
       "\"Switzerland Teams Up With Liechtenstein To Show $44 Bln Crypto ... | https://bitnewstoday.com/news/regulation/switzerland-teams-up-with-liechtenstein-to-show-44-bln-crypto-market-valuation/ \\n\\nSwitzerland and Israel Collaborate on Cryptocurrency & Blockchain ... | https://www.ccn.com/switzerland-and-israel-collaborate-on-cryptocurrency-blockchain-regulation/ \\n\\nFormer UBS bankers to set up regulated crypto-bank | https://www.ft.com/content/97bbbd30-c18b-11e8-95b1-d36dfef1b89a \\n\\nCrypto Fund Mulls Asian Expansion | https://www.finews.asia/finance/27594-crypto-fund-jan-brzezek-singapore-asia-expansion-finma-license \\n\\nCryptocurrencies: Israel enters into crypto partnership with Switzerland | https://www.euromoney.com/article/b1b9n4xg6502hd/cryptocurrencies-israel-enters-into-crypto-partnership-with-switzerland \\n\\nSwiss Financial Watchdog Issues Country's First Crypto Asset ... | https://cointelegraph.com/news/swiss-financial-watchdog-issues-countrys-first-crypto-asset-management-license \\n\\nSwitzerland Eases Crypto Regulations to Prevent Market Withdrawal | https://unhashed.com/cryptocurrency-news/switzerland-eases-crypto-regulations-prevent-market-withdrawal/ \\n\\nSwiss Bankers Ease Access for Crypto Startups to Prevent Mass ... | https://cointelegraph.com/news/swiss-bankers-ease-access-for-crypto-startups-to-prevent-mass-exodus \\n\\nSwiss springboard for Bitmain's European crypto expansion | https://www.swissinfo.ch/eng/business/cryptocurrency-giant_swiss-springboard-for-bitmain-s-european-crypto-expansion/44405096 \\n\\nCrypto Finance eyes Asian expansion after winning Swiss license | https://www.swissinfo.ch/eng/finma-approval_crypto-finance-eyes-asian-expansion-after-winning-swiss-license/44465638 \\n\\n\""
      ]
     },
     "execution_count": 63,
     "metadata": {},
     "output_type": "execute_result"
    }
   ],
   "source": [
    "a"
   ]
  },
  {
   "cell_type": "code",
   "execution_count": 2,
   "metadata": {},
   "outputs": [],
   "source": [
    "import json"
   ]
  },
  {
   "cell_type": "code",
   "execution_count": 33,
   "metadata": {},
   "outputs": [
    {
     "data": {
      "text/plain": [
       "{'Switzerland Teams Up With Liechtenstein To Show $44 Bln Crypto ...': 'https://bitnewstoday.com/news/regulation/switzerland-teams-up-with-liechtenstein-to-show-44-bln-crypto-market-valuation/',\n",
       " 'Switzerland and Israel Collaborate on Cryptocurrency & Blockchain ...': 'https://www.ccn.com/switzerland-and-israel-collaborate-on-cryptocurrency-blockchain-regulation/',\n",
       " 'Former UBS bankers to set up regulated crypto-bank': 'https://www.ft.com/content/97bbbd30-c18b-11e8-95b1-d36dfef1b89a',\n",
       " 'Crypto Fund Mulls Asian Expansion': 'https://www.finews.asia/finance/27594-crypto-fund-jan-brzezek-singapore-asia-expansion-finma-license',\n",
       " 'Cryptocurrencies: Israel enters into crypto partnership with Switzerland': 'https://www.euromoney.com/article/b1b9n4xg6502hd/cryptocurrencies-israel-enters-into-crypto-partnership-with-switzerland',\n",
       " \"Swiss Financial Watchdog Issues Country's First Crypto Asset ...\": 'https://cointelegraph.com/news/swiss-financial-watchdog-issues-countrys-first-crypto-asset-management-license',\n",
       " 'Switzerland Eases Crypto Regulations to Prevent Market Withdrawal': 'https://unhashed.com/cryptocurrency-news/switzerland-eases-crypto-regulations-prevent-market-withdrawal/',\n",
       " 'Swiss Bankers Ease Access for Crypto Startups to Prevent Mass ...': 'https://cointelegraph.com/news/swiss-bankers-ease-access-for-crypto-startups-to-prevent-mass-exodus',\n",
       " \"Swiss springboard for Bitmain's European crypto expansion\": 'https://www.swissinfo.ch/eng/business/cryptocurrency-giant_swiss-springboard-for-bitmain-s-european-crypto-expansion/44405096',\n",
       " 'Crypto Finance eyes Asian expansion after winning Swiss license': 'https://www.swissinfo.ch/eng/finma-approval_crypto-finance-eyes-asian-expansion-after-winning-swiss-license/44465638'}"
      ]
     },
     "execution_count": 33,
     "metadata": {},
     "output_type": "execute_result"
    }
   ],
   "source": [
    "json.loads(json.dumps(res))"
   ]
  },
  {
   "cell_type": "code",
   "execution_count": 13,
   "metadata": {},
   "outputs": [
    {
     "name": "stdout",
     "output_type": "stream",
     "text": [
      "{\"Switzerland Teams Up With Liechtenstein To Show $44 Bln Crypto ...\": \"https://bitnewstoday.com/news/regulation/switzerland-teams-up-with-liechtenstein-to-show-44-bln-crypto-market-valuation/&sa=U&ved=0ahUKEwjB_qafjYreAhUMvLwKHYefDJYQqQIIEygAMAA&usg=AOvVaw3WwhNT_HaFOWG0viQE72Qb\", \"Switzerland and Israel Collaborate on Cryptocurrency & Blockchain ...\": \"https://www.ccn.com/switzerland-and-israel-collaborate-on-cryptocurrency-blockchain-regulation/&sa=U&ved=0ahUKEwjB_qafjYreAhUMvLwKHYefDJYQqQIIGCgAMAE&usg=AOvVaw2ej1VdWeQ2uo8v1mIKqqTo\", \"Former UBS bankers to set up regulated crypto-bank\": \"https://www.ft.com/content/97bbbd30-c18b-11e8-95b1-d36dfef1b89a&sa=U&ved=0ahUKEwjB_qafjYreAhUMvLwKHYefDJYQqQIIHSgAMAI&usg=AOvVaw0c6R6N-Hf7zV6H_wBzxNUX\", \"Crypto Fund Mulls Asian Expansion\": \"https://www.finews.asia/finance/27594-crypto-fund-jan-brzezek-singapore-asia-expansion-finma-license&sa=U&ved=0ahUKEwjB_qafjYreAhUMvLwKHYefDJYQqQIIJigAMAM&usg=AOvVaw0DZq1o7kE1brBPGKRHWYlS\", \"Cryptocurrencies: Israel enters into crypto partnership with Switzerland\": \"https://www.euromoney.com/article/b1b9n4xg6502hd/cryptocurrencies-israel-enters-into-crypto-partnership-with-switzerland&sa=U&ved=0ahUKEwjB_qafjYreAhUMvLwKHYefDJYQqQIIKygAMAQ&usg=AOvVaw1-hDj1C-od0_mzQVKrHGAJ\", \"Swiss Financial Watchdog Issues Country's First Crypto Asset ...\": \"https://cointelegraph.com/news/swiss-financial-watchdog-issues-countrys-first-crypto-asset-management-license&sa=U&ved=0ahUKEwjB_qafjYreAhUMvLwKHYefDJYQqQIIMCgAMAU&usg=AOvVaw0dPFzuToJZfiNVb-vzOt2K\", \"Switzerland Eases Crypto Regulations to Prevent Market Withdrawal\": \"https://unhashed.com/cryptocurrency-news/switzerland-eases-crypto-regulations-prevent-market-withdrawal/&sa=U&ved=0ahUKEwjB_qafjYreAhUMvLwKHYefDJYQqQIIOSgAMAY&usg=AOvVaw2Okj5fUxX9QgrqN_P6ia9D\", \"Swiss Bankers Ease Access for Crypto Startups to Prevent Mass ...\": \"https://cointelegraph.com/news/swiss-bankers-ease-access-for-crypto-startups-to-prevent-mass-exodus&sa=U&ved=0ahUKEwjB_qafjYreAhUMvLwKHYefDJYQqQIIQCgAMAc&usg=AOvVaw3ix17WQsQAmfElS3xfHdhO\", \"Swiss springboard for Bitmain's European crypto expansion\": \"https://www.swissinfo.ch/eng/business/cryptocurrency-giant_swiss-springboard-for-bitmain-s-european-crypto-expansion/44405096&sa=U&ved=0ahUKEwjB_qafjYreAhUMvLwKHYefDJYQqQIISSgAMAg&usg=AOvVaw0DB3C9G0r20bJXRTxKeIXL\", \"Crypto Finance eyes Asian expansion after winning Swiss license\": \"https://www.swissinfo.ch/eng/finma-approval_crypto-finance-eyes-asian-expansion-after-winning-swiss-license/44465638&sa=U&ved=0ahUKEwjB_qafjYreAhUMvLwKHYefDJYQqQIITCgAMAk&usg=AOvVaw0RcMwI5C8z_HNOaluJ3GiA\"}\n"
     ]
    }
   ],
   "source": [
    "print(json.dumps(res))"
   ]
  },
  {
   "cell_type": "code",
   "execution_count": null,
   "metadata": {},
   "outputs": [],
   "source": []
  }
 ],
 "metadata": {
  "kernelspec": {
   "display_name": "Python 3",
   "language": "python",
   "name": "python3"
  },
  "language_info": {
   "codemirror_mode": {
    "name": "ipython",
    "version": 3
   },
   "file_extension": ".py",
   "mimetype": "text/x-python",
   "name": "python",
   "nbconvert_exporter": "python",
   "pygments_lexer": "ipython3",
   "version": "3.6.5"
  }
 },
 "nbformat": 4,
 "nbformat_minor": 2
}
