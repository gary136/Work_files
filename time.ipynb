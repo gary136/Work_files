{
 "cells": [
  {
   "cell_type": "code",
   "execution_count": 1,
   "metadata": {},
   "outputs": [],
   "source": [
    "import time"
   ]
  },
  {
   "cell_type": "code",
   "execution_count": 4,
   "metadata": {},
   "outputs": [
    {
     "name": "stdout",
     "output_type": "stream",
     "text": [
      "['_STRUCT_TM_ITEMS', '__doc__', '__loader__', '__name__', '__package__', '__spec__', 'altzone', 'asctime', 'clock', 'ctime', 'daylight', 'get_clock_info', 'gmtime', 'localtime', 'mktime', 'monotonic', 'perf_counter', 'process_time', 'sleep', 'strftime', 'strptime', 'struct_time', 'time', 'timezone', 'tzname', 'tzset']\n"
     ]
    }
   ],
   "source": [
    "print(dir(time))"
   ]
  },
  {
   "cell_type": "code",
   "execution_count": 5,
   "metadata": {},
   "outputs": [
    {
     "name": "stdout",
     "output_type": "stream",
     "text": [
      "['__add__', '__class__', '__contains__', '__delattr__', '__dir__', '__doc__', '__eq__', '__format__', '__ge__', '__getattribute__', '__getitem__', '__getnewargs__', '__gt__', '__hash__', '__init__', '__init_subclass__', '__iter__', '__le__', '__len__', '__lt__', '__mul__', '__ne__', '__new__', '__reduce__', '__reduce_ex__', '__repr__', '__rmul__', '__setattr__', '__sizeof__', '__str__', '__subclasshook__', 'count', 'index', 'n_fields', 'n_sequence_fields', 'n_unnamed_fields', 'tm_gmtoff', 'tm_hour', 'tm_isdst', 'tm_mday', 'tm_min', 'tm_mon', 'tm_sec', 'tm_wday', 'tm_yday', 'tm_year', 'tm_zone']\n"
     ]
    }
   ],
   "source": [
    "print(dir(time.struct_time))"
   ]
  },
  {
   "cell_type": "markdown",
   "metadata": {},
   "source": [
    "# time.localtime"
   ]
  },
  {
   "cell_type": "code",
   "execution_count": 7,
   "metadata": {},
   "outputs": [
    {
     "name": "stdout",
     "output_type": "stream",
     "text": [
      "['__call__', '__class__', '__delattr__', '__dir__', '__doc__', '__eq__', '__format__', '__ge__', '__getattribute__', '__gt__', '__hash__', '__init__', '__init_subclass__', '__le__', '__lt__', '__module__', '__name__', '__ne__', '__new__', '__qualname__', '__reduce__', '__reduce_ex__', '__repr__', '__self__', '__setattr__', '__sizeof__', '__str__', '__subclasshook__', '__text_signature__']\n"
     ]
    }
   ],
   "source": [
    "print(dir(time.localtime))"
   ]
  },
  {
   "cell_type": "code",
   "execution_count": 2,
   "metadata": {},
   "outputs": [],
   "source": [
    "ls = time.localtime()"
   ]
  },
  {
   "cell_type": "code",
   "execution_count": 3,
   "metadata": {},
   "outputs": [
    {
     "data": {
      "text/plain": [
       "time.struct_time(tm_year=2018, tm_mon=9, tm_mday=13, tm_hour=14, tm_min=33, tm_sec=54, tm_wday=3, tm_yday=256, tm_isdst=0)"
      ]
     },
     "execution_count": 3,
     "metadata": {},
     "output_type": "execute_result"
    }
   ],
   "source": [
    "ls"
   ]
  },
  {
   "cell_type": "code",
   "execution_count": 7,
   "metadata": {},
   "outputs": [
    {
     "data": {
      "text/plain": [
       "time.struct_time"
      ]
     },
     "execution_count": 7,
     "metadata": {},
     "output_type": "execute_result"
    }
   ],
   "source": [
    "type(ls)"
   ]
  },
  {
   "cell_type": "code",
   "execution_count": 15,
   "metadata": {},
   "outputs": [],
   "source": [
    "copy_ls = ls"
   ]
  },
  {
   "cell_type": "code",
   "execution_count": 18,
   "metadata": {},
   "outputs": [
    {
     "ename": "AttributeError",
     "evalue": "readonly attribute",
     "output_type": "error",
     "traceback": [
      "\u001b[0;31m---------------------------------------------------------------------------\u001b[0m",
      "\u001b[0;31mAttributeError\u001b[0m                            Traceback (most recent call last)",
      "\u001b[0;32m<ipython-input-18-84771f68e415>\u001b[0m in \u001b[0;36m<module>\u001b[0;34m()\u001b[0m\n\u001b[0;32m----> 1\u001b[0;31m \u001b[0mcopy_ls\u001b[0m\u001b[0;34m.\u001b[0m\u001b[0mtm_min\u001b[0m \u001b[0;34m-=\u001b[0m \u001b[0;36m1\u001b[0m\u001b[0;34m\u001b[0m\u001b[0m\n\u001b[0m",
      "\u001b[0;31mAttributeError\u001b[0m: readonly attribute"
     ]
    }
   ],
   "source": [
    "copy_ls.tm_min -= 1"
   ]
  },
  {
   "cell_type": "code",
   "execution_count": 25,
   "metadata": {},
   "outputs": [
    {
     "data": {
      "text/plain": [
       "time.struct_time(tm_year=2018, tm_mon=9, tm_mday=13, tm_hour=6, tm_min=45, tm_sec=40, tm_wday=3, tm_yday=256, tm_isdst=0)"
      ]
     },
     "execution_count": 25,
     "metadata": {},
     "output_type": "execute_result"
    }
   ],
   "source": [
    "# 倫敦時間\n",
    "time.gmtime()"
   ]
  },
  {
   "cell_type": "code",
   "execution_count": 92,
   "metadata": {},
   "outputs": [
    {
     "data": {
      "text/plain": [
       "time.struct_time(tm_year=1970, tm_mon=1, tm_mday=1, tm_hour=8, tm_min=0, tm_sec=0, tm_wday=3, tm_yday=1, tm_isdst=0)"
      ]
     },
     "execution_count": 92,
     "metadata": {},
     "output_type": "execute_result"
    }
   ],
   "source": [
    "time.localtime(0)"
   ]
  },
  {
   "cell_type": "markdown",
   "metadata": {},
   "source": [
    "# time.time"
   ]
  },
  {
   "cell_type": "code",
   "execution_count": 33,
   "metadata": {},
   "outputs": [],
   "source": [
    "current_time = time.time()"
   ]
  },
  {
   "cell_type": "code",
   "execution_count": 34,
   "metadata": {},
   "outputs": [
    {
     "data": {
      "text/plain": [
       "1536821441.447126"
      ]
     },
     "execution_count": 34,
     "metadata": {},
     "output_type": "execute_result"
    }
   ],
   "source": [
    "current_time"
   ]
  },
  {
   "cell_type": "code",
   "execution_count": 36,
   "metadata": {},
   "outputs": [
    {
     "data": {
      "text/plain": [
       "time.struct_time(tm_year=2018, tm_mon=9, tm_mday=13, tm_hour=14, tm_min=50, tm_sec=41, tm_wday=3, tm_yday=256, tm_isdst=0)"
      ]
     },
     "execution_count": 36,
     "metadata": {},
     "output_type": "execute_result"
    }
   ],
   "source": [
    "time.localtime(current_time)"
   ]
  },
  {
   "cell_type": "code",
   "execution_count": 35,
   "metadata": {},
   "outputs": [],
   "source": [
    "m_current_time = current_time - 300"
   ]
  },
  {
   "cell_type": "code",
   "execution_count": 37,
   "metadata": {},
   "outputs": [
    {
     "data": {
      "text/plain": [
       "time.struct_time(tm_year=2018, tm_mon=9, tm_mday=13, tm_hour=14, tm_min=45, tm_sec=41, tm_wday=3, tm_yday=256, tm_isdst=0)"
      ]
     },
     "execution_count": 37,
     "metadata": {},
     "output_type": "execute_result"
    }
   ],
   "source": [
    "time.localtime(m_current_time)"
   ]
  },
  {
   "cell_type": "markdown",
   "metadata": {},
   "source": [
    "# time.mktime"
   ]
  },
  {
   "cell_type": "code",
   "execution_count": 28,
   "metadata": {},
   "outputs": [
    {
     "data": {
      "text/plain": [
       "1536821220.0"
      ]
     },
     "execution_count": 28,
     "metadata": {},
     "output_type": "execute_result"
    }
   ],
   "source": [
    "time.mktime(time.localtime())"
   ]
  },
  {
   "cell_type": "markdown",
   "metadata": {},
   "source": [
    "# time.asctime"
   ]
  },
  {
   "cell_type": "code",
   "execution_count": 29,
   "metadata": {},
   "outputs": [
    {
     "data": {
      "text/plain": [
       "'Thu Sep 13 14:48:39 2018'"
      ]
     },
     "execution_count": 29,
     "metadata": {},
     "output_type": "execute_result"
    }
   ],
   "source": [
    "time.asctime(time.localtime())"
   ]
  },
  {
   "cell_type": "code",
   "execution_count": 91,
   "metadata": {},
   "outputs": [
    {
     "data": {
      "text/plain": [
       "'Fri Sep 14 10:19:04 2018'"
      ]
     },
     "execution_count": 91,
     "metadata": {},
     "output_type": "execute_result"
    }
   ],
   "source": [
    "time.asctime()"
   ]
  },
  {
   "cell_type": "markdown",
   "metadata": {},
   "source": [
    "# time.strftime"
   ]
  },
  {
   "cell_type": "code",
   "execution_count": 58,
   "metadata": {},
   "outputs": [
    {
     "name": "stdout",
     "output_type": "stream",
     "text": [
      "Help on built-in function strftime in module time:\n",
      "\n",
      "strftime(...)\n",
      "    strftime(format[, tuple]) -> string\n",
      "    \n",
      "    Convert a time tuple to a string according to a format specification.\n",
      "    See the library reference manual for formatting codes. When the time tuple\n",
      "    is not present, current time as returned by localtime() is used.\n",
      "    \n",
      "    Commonly used format codes:\n",
      "    \n",
      "    %Y  Year with century as a decimal number.\n",
      "    %m  Month as a decimal number [01,12].\n",
      "    %d  Day of the month as a decimal number [01,31].\n",
      "    %H  Hour (24-hour clock) as a decimal number [00,23].\n",
      "    %M  Minute as a decimal number [00,59].\n",
      "    %S  Second as a decimal number [00,61].\n",
      "    %z  Time zone offset from UTC.\n",
      "    %a  Locale's abbreviated weekday name.\n",
      "    %A  Locale's full weekday name.\n",
      "    %b  Locale's abbreviated month name.\n",
      "    %B  Locale's full month name.\n",
      "    %c  Locale's appropriate date and time representation.\n",
      "    %I  Hour (12-hour clock) as a decimal number [01,12].\n",
      "    %p  Locale's equivalent of either AM or PM.\n",
      "    \n",
      "    Other codes may be available on your platform.  See documentation for\n",
      "    the C library strftime function.\n",
      "\n"
     ]
    }
   ],
   "source": [
    "help(time.strftime)"
   ]
  },
  {
   "cell_type": "code",
   "execution_count": 46,
   "metadata": {},
   "outputs": [
    {
     "data": {
      "text/plain": [
       "'2018-09-13 14:58:55'"
      ]
     },
     "execution_count": 46,
     "metadata": {},
     "output_type": "execute_result"
    }
   ],
   "source": [
    "time.strftime(\"%Y-%m-%d %H:%M:%S\", time.localtime())"
   ]
  },
  {
   "cell_type": "code",
   "execution_count": null,
   "metadata": {},
   "outputs": [],
   "source": [
    "'''\n",
    "%a  本地星期名称的简写（如星期四为Thu）      \n",
    "%A  本地星期名称的全称（如星期四为Thursday）      \n",
    "%b  本地月份名称的简写（如八月份为agu）    \n",
    "%B  本地月份名称的全称（如八月份为august）       \n",
    "%c  本地相应的日期和时间的字符串表示（如：15/08/27 10:20:06）       \n",
    "%d  一个月中的第几天（01 - 31）  \n",
    "%f  微妙（范围0.999999）    \n",
    "%H  一天中的第几个小时（24小时制，00 - 23）       \n",
    "%I  第几个小时（12小时制，0 - 11）       \n",
    "%j  一年中的第几天（001 - 366）     \n",
    "%m  月份（01 - 12）    \n",
    "%M  分钟数（00 - 59）       \n",
    "%p  本地am或者pm的相应符      \n",
    "%S  秒（00 - 61）    \n",
    "%U  一年中的星期数。（00 - 53星期天是一个星期的开始。）第一个星期天之    前的所有天数都放在第0周。     \n",
    "%w  一个星期中的第几天（0 - 6，0是星期天）    \n",
    "%W  和%U基本相同，不同的是%W以星期一为一个星期的开始。    \n",
    "%x  本地相应日期字符串（如15/08/01）     \n",
    "%X  本地相应时间字符串（如08:08:10）     \n",
    "%y  去掉世纪的年份（00 - 99）两个数字表示的年份       \n",
    "%Y  完整的年份（4个数字表示年份）\n",
    "%z  与UTC时间的间隔（如果是本地时间，返回空字符串）\n",
    "%Z  时区的名字（如果是本地时间，返回空字符串）       \n",
    "%%  ‘%’字符  \n",
    "'''"
   ]
  },
  {
   "cell_type": "code",
   "execution_count": 57,
   "metadata": {},
   "outputs": [
    {
     "data": {
      "text/plain": [
       "'Thu Thursday Sep September +0800 CST xxx 2018-09-13 15:02:40'"
      ]
     },
     "execution_count": 57,
     "metadata": {},
     "output_type": "execute_result"
    }
   ],
   "source": [
    "time.strftime(\"%a %A %b %B %z %Z xxx %Y-%m-%d %H:%M:%S\", time.localtime())"
   ]
  },
  {
   "cell_type": "markdown",
   "metadata": {},
   "source": [
    "# time.strptime"
   ]
  },
  {
   "cell_type": "code",
   "execution_count": 62,
   "metadata": {},
   "outputs": [
    {
     "name": "stdout",
     "output_type": "stream",
     "text": [
      "Help on built-in function strptime in module time:\n",
      "\n",
      "strptime(...)\n",
      "    strptime(string, format) -> struct_time\n",
      "    \n",
      "    Parse a string to a time tuple according to a format specification.\n",
      "    See the library reference manual for formatting codes (same as\n",
      "    strftime()).\n",
      "    \n",
      "    Commonly used format codes:\n",
      "    \n",
      "    %Y  Year with century as a decimal number.\n",
      "    %m  Month as a decimal number [01,12].\n",
      "    %d  Day of the month as a decimal number [01,31].\n",
      "    %H  Hour (24-hour clock) as a decimal number [00,23].\n",
      "    %M  Minute as a decimal number [00,59].\n",
      "    %S  Second as a decimal number [00,61].\n",
      "    %z  Time zone offset from UTC.\n",
      "    %a  Locale's abbreviated weekday name.\n",
      "    %A  Locale's full weekday name.\n",
      "    %b  Locale's abbreviated month name.\n",
      "    %B  Locale's full month name.\n",
      "    %c  Locale's appropriate date and time representation.\n",
      "    %I  Hour (12-hour clock) as a decimal number [01,12].\n",
      "    %p  Locale's equivalent of either AM or PM.\n",
      "    \n",
      "    Other codes may be available on your platform.  See documentation for\n",
      "    the C library strftime function.\n",
      "\n"
     ]
    }
   ],
   "source": [
    "help(time.strptime)"
   ]
  },
  {
   "cell_type": "code",
   "execution_count": 68,
   "metadata": {},
   "outputs": [],
   "source": [
    "t = time.strptime(time.asctime())"
   ]
  },
  {
   "cell_type": "code",
   "execution_count": 69,
   "metadata": {},
   "outputs": [
    {
     "data": {
      "text/plain": [
       "time.struct_time(tm_year=2018, tm_mon=9, tm_mday=13, tm_hour=15, tm_min=11, tm_sec=59, tm_wday=3, tm_yday=256, tm_isdst=-1)"
      ]
     },
     "execution_count": 69,
     "metadata": {},
     "output_type": "execute_result"
    }
   ],
   "source": [
    "t"
   ]
  },
  {
   "cell_type": "code",
   "execution_count": 70,
   "metadata": {},
   "outputs": [
    {
     "name": "stdout",
     "output_type": "stream",
     "text": [
      "2018\n",
      "9\n",
      "13\n",
      "15\n",
      "11\n",
      "59\n",
      "3\n",
      "256\n",
      "-1\n"
     ]
    }
   ],
   "source": [
    "for i in t:\n",
    "    print(i,)"
   ]
  },
  {
   "cell_type": "code",
   "execution_count": 76,
   "metadata": {},
   "outputs": [
    {
     "ename": "ValueError",
     "evalue": "time data '2015-08-24 13:01:30' does not match format '%a %b %d %H:%M:%S %Y'",
     "output_type": "error",
     "traceback": [
      "\u001b[0;31m---------------------------------------------------------------------------\u001b[0m",
      "\u001b[0;31mValueError\u001b[0m                                Traceback (most recent call last)",
      "\u001b[0;32m<ipython-input-76-b16d7202963d>\u001b[0m in \u001b[0;36m<module>\u001b[0;34m()\u001b[0m\n\u001b[0;32m----> 1\u001b[0;31m \u001b[0mt_com\u001b[0m \u001b[0;34m=\u001b[0m \u001b[0mtime\u001b[0m\u001b[0;34m.\u001b[0m\u001b[0mstrptime\u001b[0m\u001b[0;34m(\u001b[0m\u001b[0;34m\"2015-08-24 13:01:30\"\u001b[0m\u001b[0;34m)\u001b[0m\u001b[0;34m\u001b[0m\u001b[0m\n\u001b[0m",
      "\u001b[0;32m/Library/Frameworks/Python.framework/Versions/3.6/lib/python3.6/_strptime.py\u001b[0m in \u001b[0;36m_strptime_time\u001b[0;34m(data_string, format)\u001b[0m\n\u001b[1;32m    557\u001b[0m     \"\"\"Return a time struct based on the input string and the\n\u001b[1;32m    558\u001b[0m     format string.\"\"\"\n\u001b[0;32m--> 559\u001b[0;31m     \u001b[0mtt\u001b[0m \u001b[0;34m=\u001b[0m \u001b[0m_strptime\u001b[0m\u001b[0;34m(\u001b[0m\u001b[0mdata_string\u001b[0m\u001b[0;34m,\u001b[0m \u001b[0mformat\u001b[0m\u001b[0;34m)\u001b[0m\u001b[0;34m[\u001b[0m\u001b[0;36m0\u001b[0m\u001b[0;34m]\u001b[0m\u001b[0;34m\u001b[0m\u001b[0m\n\u001b[0m\u001b[1;32m    560\u001b[0m     \u001b[0;32mreturn\u001b[0m \u001b[0mtime\u001b[0m\u001b[0;34m.\u001b[0m\u001b[0mstruct_time\u001b[0m\u001b[0;34m(\u001b[0m\u001b[0mtt\u001b[0m\u001b[0;34m[\u001b[0m\u001b[0;34m:\u001b[0m\u001b[0mtime\u001b[0m\u001b[0;34m.\u001b[0m\u001b[0m_STRUCT_TM_ITEMS\u001b[0m\u001b[0;34m]\u001b[0m\u001b[0;34m)\u001b[0m\u001b[0;34m\u001b[0m\u001b[0m\n\u001b[1;32m    561\u001b[0m \u001b[0;34m\u001b[0m\u001b[0m\n",
      "\u001b[0;32m/Library/Frameworks/Python.framework/Versions/3.6/lib/python3.6/_strptime.py\u001b[0m in \u001b[0;36m_strptime\u001b[0;34m(data_string, format)\u001b[0m\n\u001b[1;32m    360\u001b[0m     \u001b[0;32mif\u001b[0m \u001b[0;32mnot\u001b[0m \u001b[0mfound\u001b[0m\u001b[0;34m:\u001b[0m\u001b[0;34m\u001b[0m\u001b[0m\n\u001b[1;32m    361\u001b[0m         raise ValueError(\"time data %r does not match format %r\" %\n\u001b[0;32m--> 362\u001b[0;31m                          (data_string, format))\n\u001b[0m\u001b[1;32m    363\u001b[0m     \u001b[0;32mif\u001b[0m \u001b[0mlen\u001b[0m\u001b[0;34m(\u001b[0m\u001b[0mdata_string\u001b[0m\u001b[0;34m)\u001b[0m \u001b[0;34m!=\u001b[0m \u001b[0mfound\u001b[0m\u001b[0;34m.\u001b[0m\u001b[0mend\u001b[0m\u001b[0;34m(\u001b[0m\u001b[0;34m)\u001b[0m\u001b[0;34m:\u001b[0m\u001b[0;34m\u001b[0m\u001b[0m\n\u001b[1;32m    364\u001b[0m         raise ValueError(\"unconverted data remains: %s\" %\n",
      "\u001b[0;31mValueError\u001b[0m: time data '2015-08-24 13:01:30' does not match format '%a %b %d %H:%M:%S %Y'"
     ]
    }
   ],
   "source": [
    "t_com = time.strptime(\"2015-08-24 13:01:30\")"
   ]
  },
  {
   "cell_type": "code",
   "execution_count": 73,
   "metadata": {},
   "outputs": [],
   "source": [
    "t_com = time.strptime(\"2015-08-24 13:01:30\", \"%Y-%m-%d %H:%M:%S\")"
   ]
  },
  {
   "cell_type": "code",
   "execution_count": 74,
   "metadata": {},
   "outputs": [
    {
     "data": {
      "text/plain": [
       "time.struct_time(tm_year=2015, tm_mon=8, tm_mday=24, tm_hour=13, tm_min=1, tm_sec=30, tm_wday=0, tm_yday=236, tm_isdst=-1)"
      ]
     },
     "execution_count": 74,
     "metadata": {},
     "output_type": "execute_result"
    }
   ],
   "source": [
    "t_com"
   ]
  },
  {
   "cell_type": "code",
   "execution_count": 75,
   "metadata": {},
   "outputs": [
    {
     "data": {
      "text/plain": [
       "'Thu Sep 13 15:14:42 2018'"
      ]
     },
     "execution_count": 75,
     "metadata": {},
     "output_type": "execute_result"
    }
   ],
   "source": [
    "time.asctime()"
   ]
  },
  {
   "cell_type": "code",
   "execution_count": 88,
   "metadata": {},
   "outputs": [
    {
     "data": {
      "text/plain": [
       "'Thu Sep 13 15:17:14 2018'"
      ]
     },
     "execution_count": 88,
     "metadata": {},
     "output_type": "execute_result"
    }
   ],
   "source": [
    "time.strftime(\"%a %b %d %H:%M%:%S %Y\", time.localtime())"
   ]
  },
  {
   "cell_type": "code",
   "execution_count": 89,
   "metadata": {},
   "outputs": [
    {
     "data": {
      "text/plain": [
       "time.struct_time(tm_year=2018, tm_mon=9, tm_mday=13, tm_hour=15, tm_min=17, tm_sec=38, tm_wday=3, tm_yday=256, tm_isdst=-1)"
      ]
     },
     "execution_count": 89,
     "metadata": {},
     "output_type": "execute_result"
    }
   ],
   "source": [
    "time.strptime(time.strftime(\"%a %b %d %H:%M%:%S %Y\", time.localtime()))"
   ]
  },
  {
   "cell_type": "code",
   "execution_count": 4,
   "metadata": {},
   "outputs": [
    {
     "data": {
      "text/plain": [
       "38"
      ]
     },
     "execution_count": 4,
     "metadata": {},
     "output_type": "execute_result"
    }
   ],
   "source": [
    "time.localtime().tm_min"
   ]
  },
  {
   "cell_type": "markdown",
   "metadata": {},
   "source": [
    "# datetime"
   ]
  },
  {
   "cell_type": "code",
   "execution_count": 13,
   "metadata": {},
   "outputs": [],
   "source": [
    "from datetime import datetime, timedelta, timezone"
   ]
  },
  {
   "cell_type": "code",
   "execution_count": 9,
   "metadata": {},
   "outputs": [],
   "source": [
    "dt = datetime.now()"
   ]
  },
  {
   "cell_type": "code",
   "execution_count": 14,
   "metadata": {},
   "outputs": [
    {
     "data": {
      "text/plain": [
       "'20181010'"
      ]
     },
     "execution_count": 14,
     "metadata": {},
     "output_type": "execute_result"
    }
   ],
   "source": [
    "dt.strftime('%Y%m%d')"
   ]
  },
  {
   "cell_type": "code",
   "execution_count": 20,
   "metadata": {},
   "outputs": [
    {
     "name": "stdout",
     "output_type": "stream",
     "text": [
      "20181010 <class 'str'>\n",
      "20181009 <class 'str'>\n"
     ]
    }
   ],
   "source": [
    "print(dt.strftime('%Y%m%d'), type(dt.strftime('%Y%m%d')))\n",
    "one_d = timedelta(days=1)\n",
    "print((dt-one_d).strftime('%Y%m%d'), type((dt-one_d).strftime('%Y%m%d')))"
   ]
  },
  {
   "cell_type": "code",
   "execution_count": 22,
   "metadata": {},
   "outputs": [
    {
     "data": {
      "text/plain": [
       "datetime.datetime(3000, 1, 1, 0, 0)"
      ]
     },
     "execution_count": 22,
     "metadata": {},
     "output_type": "execute_result"
    }
   ],
   "source": [
    "datetime(3000, 1, 1)"
   ]
  },
  {
   "cell_type": "code",
   "execution_count": 25,
   "metadata": {},
   "outputs": [
    {
     "data": {
      "text/plain": [
       "datetime.timedelta(-358377, 47812, 951857)"
      ]
     },
     "execution_count": 25,
     "metadata": {},
     "output_type": "execute_result"
    }
   ],
   "source": [
    "datetime.now() - datetime(3000, 1, 1)"
   ]
  },
  {
   "cell_type": "code",
   "execution_count": 30,
   "metadata": {},
   "outputs": [
    {
     "name": "stdout",
     "output_type": "stream",
     "text": [
      "Help on method_descriptor:\n",
      "\n",
      "time(...)\n",
      "    Return time object with same time but with tzinfo=None.\n",
      "\n"
     ]
    }
   ],
   "source": [
    "help(datetime.time)"
   ]
  },
  {
   "cell_type": "code",
   "execution_count": 16,
   "metadata": {},
   "outputs": [
    {
     "data": {
      "text/plain": [
       "datetime.datetime"
      ]
     },
     "execution_count": 16,
     "metadata": {},
     "output_type": "execute_result"
    }
   ],
   "source": [
    "datetime"
   ]
  },
  {
   "cell_type": "code",
   "execution_count": 9,
   "metadata": {},
   "outputs": [
    {
     "data": {
      "text/plain": [
       "time.struct_time(tm_year=2015, tm_mon=8, tm_mday=24, tm_hour=13, tm_min=1, tm_sec=30, tm_wday=0, tm_yday=236, tm_isdst=-1)"
      ]
     },
     "execution_count": 9,
     "metadata": {},
     "output_type": "execute_result"
    }
   ],
   "source": [
    "time.strptime(\"2015-08-24T13:01:30Z\", \"%Y-%m-%dT%H:%M:%SZ\")"
   ]
  },
  {
   "cell_type": "code",
   "execution_count": 35,
   "metadata": {},
   "outputs": [
    {
     "name": "stdout",
     "output_type": "stream",
     "text": [
      "2018-01-01 00:00:00\n",
      "2018-01-02 00:00:00\n",
      "2018-01-03 00:00:00\n",
      "2018-01-04 00:00:00\n",
      "2018-01-05 00:00:00\n",
      "2018-01-06 00:00:00\n",
      "2018-01-07 00:00:00\n",
      "2018-01-08 00:00:00\n",
      "2018-01-09 00:00:00\n",
      "2018-01-10 00:00:00\n",
      "2018-01-11 00:00:00\n",
      "2018-01-12 00:00:00\n",
      "2018-01-13 00:00:00\n",
      "2018-01-14 00:00:00\n",
      "2018-01-15 00:00:00\n",
      "2018-01-16 00:00:00\n",
      "2018-01-17 00:00:00\n",
      "2018-01-18 00:00:00\n",
      "2018-01-19 00:00:00\n",
      "2018-01-20 00:00:00\n",
      "2018-01-21 00:00:00\n",
      "2018-01-22 00:00:00\n",
      "2018-01-23 00:00:00\n",
      "2018-01-24 00:00:00\n",
      "2018-01-25 00:00:00\n",
      "2018-01-26 00:00:00\n",
      "2018-01-27 00:00:00\n",
      "2018-01-28 00:00:00\n",
      "2018-01-29 00:00:00\n",
      "2018-01-30 00:00:00\n",
      "2018-01-31 00:00:00\n",
      "2018-02-01 00:00:00\n",
      "2018-02-02 00:00:00\n",
      "2018-02-03 00:00:00\n",
      "2018-02-04 00:00:00\n",
      "2018-02-05 00:00:00\n",
      "2018-02-06 00:00:00\n",
      "2018-02-07 00:00:00\n",
      "2018-02-08 00:00:00\n",
      "2018-02-09 00:00:00\n",
      "2018-02-10 00:00:00\n",
      "2018-02-11 00:00:00\n",
      "2018-02-12 00:00:00\n",
      "2018-02-13 00:00:00\n",
      "2018-02-14 00:00:00\n",
      "2018-02-15 00:00:00\n",
      "2018-02-16 00:00:00\n",
      "2018-02-17 00:00:00\n",
      "2018-02-18 00:00:00\n",
      "2018-02-19 00:00:00\n",
      "2018-02-20 00:00:00\n",
      "2018-02-21 00:00:00\n",
      "2018-02-22 00:00:00\n",
      "2018-02-23 00:00:00\n",
      "2018-02-24 00:00:00\n",
      "2018-02-25 00:00:00\n",
      "2018-02-26 00:00:00\n",
      "2018-02-27 00:00:00\n",
      "2018-02-28 00:00:00\n",
      "2018-03-01 00:00:00\n",
      "2018-03-02 00:00:00\n",
      "2018-03-03 00:00:00\n",
      "2018-03-04 00:00:00\n",
      "2018-03-05 00:00:00\n",
      "2018-03-06 00:00:00\n",
      "2018-03-07 00:00:00\n",
      "2018-03-08 00:00:00\n",
      "2018-03-09 00:00:00\n",
      "2018-03-10 00:00:00\n",
      "2018-03-11 00:00:00\n",
      "2018-03-12 00:00:00\n",
      "2018-03-13 00:00:00\n",
      "2018-03-14 00:00:00\n",
      "2018-03-15 00:00:00\n",
      "2018-03-16 00:00:00\n",
      "2018-03-17 00:00:00\n",
      "2018-03-18 00:00:00\n",
      "2018-03-19 00:00:00\n",
      "2018-03-20 00:00:00\n",
      "2018-03-21 00:00:00\n",
      "2018-03-22 00:00:00\n",
      "2018-03-23 00:00:00\n",
      "2018-03-24 00:00:00\n",
      "2018-03-25 00:00:00\n",
      "2018-03-26 00:00:00\n",
      "2018-03-27 00:00:00\n",
      "2018-03-28 00:00:00\n",
      "2018-03-29 00:00:00\n",
      "2018-03-30 00:00:00\n",
      "2018-03-31 00:00:00\n",
      "2018-04-01 00:00:00\n",
      "2018-04-02 00:00:00\n",
      "2018-04-03 00:00:00\n",
      "2018-04-04 00:00:00\n",
      "2018-04-05 00:00:00\n",
      "2018-04-06 00:00:00\n",
      "2018-04-07 00:00:00\n",
      "2018-04-08 00:00:00\n",
      "2018-04-09 00:00:00\n",
      "2018-04-10 00:00:00\n",
      "2018-04-11 00:00:00\n",
      "2018-04-12 00:00:00\n",
      "2018-04-13 00:00:00\n",
      "2018-04-14 00:00:00\n",
      "2018-04-15 00:00:00\n",
      "2018-04-16 00:00:00\n",
      "2018-04-17 00:00:00\n",
      "2018-04-18 00:00:00\n",
      "2018-04-19 00:00:00\n",
      "2018-04-20 00:00:00\n",
      "2018-04-21 00:00:00\n",
      "2018-04-22 00:00:00\n",
      "2018-04-23 00:00:00\n",
      "2018-04-24 00:00:00\n",
      "2018-04-25 00:00:00\n",
      "2018-04-26 00:00:00\n",
      "2018-04-27 00:00:00\n",
      "2018-04-28 00:00:00\n",
      "2018-04-29 00:00:00\n",
      "2018-04-30 00:00:00\n",
      "2018-05-01 00:00:00\n",
      "2018-05-02 00:00:00\n",
      "2018-05-03 00:00:00\n",
      "2018-05-04 00:00:00\n",
      "2018-05-05 00:00:00\n",
      "2018-05-06 00:00:00\n",
      "2018-05-07 00:00:00\n",
      "2018-05-08 00:00:00\n",
      "2018-05-09 00:00:00\n",
      "2018-05-10 00:00:00\n",
      "2018-05-11 00:00:00\n",
      "2018-05-12 00:00:00\n",
      "2018-05-13 00:00:00\n",
      "2018-05-14 00:00:00\n",
      "2018-05-15 00:00:00\n",
      "2018-05-16 00:00:00\n",
      "2018-05-17 00:00:00\n",
      "2018-05-18 00:00:00\n",
      "2018-05-19 00:00:00\n",
      "2018-05-20 00:00:00\n",
      "2018-05-21 00:00:00\n",
      "2018-05-22 00:00:00\n",
      "2018-05-23 00:00:00\n",
      "2018-05-24 00:00:00\n",
      "2018-05-25 00:00:00\n",
      "2018-05-26 00:00:00\n",
      "2018-05-27 00:00:00\n",
      "2018-05-28 00:00:00\n",
      "2018-05-29 00:00:00\n",
      "2018-05-30 00:00:00\n",
      "2018-05-31 00:00:00\n",
      "2018-06-01 00:00:00\n",
      "2018-06-02 00:00:00\n",
      "2018-06-03 00:00:00\n",
      "2018-06-04 00:00:00\n",
      "2018-06-05 00:00:00\n",
      "2018-06-06 00:00:00\n",
      "2018-06-07 00:00:00\n",
      "2018-06-08 00:00:00\n",
      "2018-06-09 00:00:00\n",
      "2018-06-10 00:00:00\n",
      "2018-06-11 00:00:00\n",
      "2018-06-12 00:00:00\n",
      "2018-06-13 00:00:00\n",
      "2018-06-14 00:00:00\n",
      "2018-06-15 00:00:00\n",
      "2018-06-16 00:00:00\n",
      "2018-06-17 00:00:00\n",
      "2018-06-18 00:00:00\n",
      "2018-06-19 00:00:00\n",
      "2018-06-20 00:00:00\n",
      "2018-06-21 00:00:00\n",
      "2018-06-22 00:00:00\n",
      "2018-06-23 00:00:00\n",
      "2018-06-24 00:00:00\n",
      "2018-06-25 00:00:00\n",
      "2018-06-26 00:00:00\n",
      "2018-06-27 00:00:00\n",
      "2018-06-28 00:00:00\n",
      "2018-06-29 00:00:00\n",
      "2018-06-30 00:00:00\n",
      "2018-07-01 00:00:00\n",
      "2018-07-02 00:00:00\n",
      "2018-07-03 00:00:00\n",
      "2018-07-04 00:00:00\n",
      "2018-07-05 00:00:00\n",
      "2018-07-06 00:00:00\n",
      "2018-07-07 00:00:00\n",
      "2018-07-08 00:00:00\n",
      "2018-07-09 00:00:00\n",
      "2018-07-10 00:00:00\n",
      "2018-07-11 00:00:00\n",
      "2018-07-12 00:00:00\n",
      "2018-07-13 00:00:00\n",
      "2018-07-14 00:00:00\n",
      "2018-07-15 00:00:00\n",
      "2018-07-16 00:00:00\n",
      "2018-07-17 00:00:00\n",
      "2018-07-18 00:00:00\n",
      "2018-07-19 00:00:00\n",
      "2018-07-20 00:00:00\n",
      "2018-07-21 00:00:00\n",
      "2018-07-22 00:00:00\n",
      "2018-07-23 00:00:00\n",
      "2018-07-24 00:00:00\n",
      "2018-07-25 00:00:00\n",
      "2018-07-26 00:00:00\n",
      "2018-07-27 00:00:00\n",
      "2018-07-28 00:00:00\n",
      "2018-07-29 00:00:00\n",
      "2018-07-30 00:00:00\n",
      "2018-07-31 00:00:00\n",
      "2018-08-01 00:00:00\n",
      "2018-08-02 00:00:00\n",
      "2018-08-03 00:00:00\n",
      "2018-08-04 00:00:00\n",
      "2018-08-05 00:00:00\n",
      "2018-08-06 00:00:00\n",
      "2018-08-07 00:00:00\n",
      "2018-08-08 00:00:00\n",
      "2018-08-09 00:00:00\n",
      "2018-08-10 00:00:00\n",
      "2018-08-11 00:00:00\n",
      "2018-08-12 00:00:00\n",
      "2018-08-13 00:00:00\n",
      "2018-08-14 00:00:00\n",
      "2018-08-15 00:00:00\n",
      "2018-08-16 00:00:00\n",
      "2018-08-17 00:00:00\n",
      "2018-08-18 00:00:00\n",
      "2018-08-19 00:00:00\n",
      "2018-08-20 00:00:00\n",
      "2018-08-21 00:00:00\n",
      "2018-08-22 00:00:00\n",
      "2018-08-23 00:00:00\n",
      "2018-08-24 00:00:00\n",
      "2018-08-25 00:00:00\n",
      "2018-08-26 00:00:00\n",
      "2018-08-27 00:00:00\n",
      "2018-08-28 00:00:00\n",
      "2018-08-29 00:00:00\n",
      "2018-08-30 00:00:00\n",
      "2018-08-31 00:00:00\n",
      "2018-09-01 00:00:00\n",
      "2018-09-02 00:00:00\n",
      "2018-09-03 00:00:00\n",
      "2018-09-04 00:00:00\n",
      "2018-09-05 00:00:00\n",
      "2018-09-06 00:00:00\n",
      "2018-09-07 00:00:00\n",
      "2018-09-08 00:00:00\n",
      "2018-09-09 00:00:00\n",
      "2018-09-10 00:00:00\n",
      "2018-09-11 00:00:00\n",
      "2018-09-12 00:00:00\n",
      "2018-09-13 00:00:00\n",
      "2018-09-14 00:00:00\n",
      "2018-09-15 00:00:00\n",
      "2018-09-16 00:00:00\n",
      "2018-09-17 00:00:00\n",
      "2018-09-18 00:00:00\n",
      "2018-09-19 00:00:00\n",
      "2018-09-20 00:00:00\n",
      "2018-09-21 00:00:00\n",
      "2018-09-22 00:00:00\n",
      "2018-09-23 00:00:00\n",
      "2018-09-24 00:00:00\n",
      "2018-09-25 00:00:00\n",
      "2018-09-26 00:00:00\n",
      "2018-09-27 00:00:00\n",
      "2018-09-28 00:00:00\n",
      "2018-09-29 00:00:00\n",
      "2018-09-30 00:00:00\n",
      "2018-10-01 00:00:00\n",
      "2018-10-02 00:00:00\n",
      "2018-10-03 00:00:00\n",
      "2018-10-04 00:00:00\n",
      "2018-10-05 00:00:00\n",
      "2018-10-06 00:00:00\n",
      "2018-10-07 00:00:00\n",
      "2018-10-08 00:00:00\n",
      "2018-10-09 00:00:00\n",
      "2018-10-10 00:00:00\n",
      "2018-10-11 00:00:00\n",
      "2018-10-12 00:00:00\n",
      "2018-10-13 00:00:00\n",
      "2018-10-14 00:00:00\n",
      "2018-10-15 00:00:00\n",
      "2018-10-16 00:00:00\n",
      "2018-10-17 00:00:00\n",
      "2018-10-18 00:00:00\n",
      "2018-10-19 00:00:00\n",
      "2018-10-20 00:00:00\n",
      "2018-10-21 00:00:00\n",
      "2018-10-22 00:00:00\n",
      "2018-10-23 00:00:00\n",
      "2018-10-24 00:00:00\n",
      "2018-10-25 00:00:00\n",
      "2018-10-26 00:00:00\n",
      "2018-10-27 00:00:00\n",
      "2018-10-28 00:00:00\n",
      "2018-10-29 00:00:00\n",
      "2018-10-30 00:00:00\n",
      "2018-10-31 00:00:00\n",
      "2018-11-01 00:00:00\n",
      "2018-11-02 00:00:00\n",
      "2018-11-03 00:00:00\n",
      "2018-11-04 00:00:00\n",
      "2018-11-05 00:00:00\n",
      "2018-11-06 00:00:00\n",
      "2018-11-07 00:00:00\n",
      "2018-11-08 00:00:00\n",
      "2018-11-09 00:00:00\n",
      "2018-11-10 00:00:00\n",
      "2018-11-11 00:00:00\n",
      "2018-11-12 00:00:00\n",
      "2018-11-13 00:00:00\n",
      "2018-11-14 00:00:00\n",
      "2018-11-15 00:00:00\n",
      "2018-11-16 00:00:00\n",
      "2018-11-17 00:00:00\n",
      "2018-11-18 00:00:00\n",
      "2018-11-19 00:00:00\n",
      "2018-11-20 00:00:00\n",
      "2018-11-21 00:00:00\n",
      "2018-11-22 00:00:00\n",
      "2018-11-23 00:00:00\n",
      "2018-11-24 00:00:00\n",
      "2018-11-25 00:00:00\n",
      "2018-11-26 00:00:00\n",
      "2018-11-27 00:00:00\n",
      "2018-11-28 00:00:00\n",
      "2018-11-29 00:00:00\n",
      "2018-11-30 00:00:00\n",
      "2018-12-01 00:00:00\n",
      "2018-12-02 00:00:00\n",
      "2018-12-03 00:00:00\n",
      "2018-12-04 00:00:00\n",
      "2018-12-05 00:00:00\n",
      "2018-12-06 00:00:00\n",
      "2018-12-07 00:00:00\n",
      "2018-12-08 00:00:00\n",
      "2018-12-09 00:00:00\n",
      "2018-12-10 00:00:00\n",
      "2018-12-11 00:00:00\n",
      "2018-12-12 00:00:00\n",
      "2018-12-13 00:00:00\n",
      "2018-12-14 00:00:00\n",
      "2018-12-15 00:00:00\n",
      "2018-12-16 00:00:00\n",
      "2018-12-17 00:00:00\n",
      "2018-12-18 00:00:00\n",
      "2018-12-19 00:00:00\n",
      "2018-12-20 00:00:00\n",
      "2018-12-21 00:00:00\n",
      "2018-12-22 00:00:00\n",
      "2018-12-23 00:00:00\n",
      "2018-12-24 00:00:00\n",
      "2018-12-25 00:00:00\n",
      "2018-12-26 00:00:00\n",
      "2018-12-27 00:00:00\n",
      "2018-12-28 00:00:00\n",
      "2018-12-29 00:00:00\n",
      "2018-12-30 00:00:00\n",
      "2018-12-31 00:00:00\n"
     ]
    }
   ],
   "source": [
    "a = '2018-01-01T00:00:00Z'\n",
    "t = datetime.strptime(a, '%Y-%m-%dT%H:%M:%SZ')\n",
    "i = 0\n",
    "while i < 365:\n",
    "    print(t)\n",
    "    t+=timedelta(days=1)\n",
    "    i+=1"
   ]
  },
  {
   "cell_type": "code",
   "execution_count": 30,
   "metadata": {},
   "outputs": [
    {
     "data": {
      "text/plain": [
       "datetime.datetime(2018, 1, 2, 0, 0)"
      ]
     },
     "execution_count": 30,
     "metadata": {},
     "output_type": "execute_result"
    }
   ],
   "source": [
    "t + timedelta(days=1)"
   ]
  },
  {
   "cell_type": "code",
   "execution_count": 5,
   "metadata": {},
   "outputs": [],
   "source": [
    "from datetime import datetime\n",
    "t = datetime.strptime('2018-09-01 07:34:45', '%Y-%m-%d %H:%M:%S')"
   ]
  },
  {
   "cell_type": "code",
   "execution_count": 11,
   "metadata": {},
   "outputs": [
    {
     "data": {
      "text/plain": [
       "'Sat'"
      ]
     },
     "execution_count": 11,
     "metadata": {},
     "output_type": "execute_result"
    }
   ],
   "source": [
    "datetime.strftime(t, '%a')"
   ]
  },
  {
   "cell_type": "code",
   "execution_count": null,
   "metadata": {},
   "outputs": [],
   "source": []
  }
 ],
 "metadata": {
  "kernelspec": {
   "display_name": "Python 3",
   "language": "python",
   "name": "python3"
  },
  "language_info": {
   "codemirror_mode": {
    "name": "ipython",
    "version": 3
   },
   "file_extension": ".py",
   "mimetype": "text/x-python",
   "name": "python",
   "nbconvert_exporter": "python",
   "pygments_lexer": "ipython3",
   "version": "3.6.5"
  }
 },
 "nbformat": 4,
 "nbformat_minor": 2
}
